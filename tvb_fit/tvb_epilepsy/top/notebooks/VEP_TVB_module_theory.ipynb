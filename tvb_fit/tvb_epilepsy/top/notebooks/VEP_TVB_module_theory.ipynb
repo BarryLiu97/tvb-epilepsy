{
 "cells": [
  {
   "cell_type": "code",
   "execution_count": 1,
   "metadata": {
    "ExecuteTime": {
     "end_time": "2016-09-06T20:31:44.858462",
     "start_time": "2016-09-06T20:31:44.829534"
    },
    "collapsed": false,
    "scrolled": true
   },
   "outputs": [
    {
     "name": "stdout",
     "output_type": "stream",
     "text": [
      "Press below for code fields to appear/hide\n"
     ]
    },
    {
     "data": {
      "text/html": [
       "<script>\n",
       "code_show=true; \n",
       "function code_toggle() {\n",
       "  if (code_show) {\n",
       "    $('div.input').each(function(id) {\n",
       "      el = $(this).find('.cm-variable:first');\n",
       "      if (id == 0 || el.text() == 'hide_me') {\n",
       "        $(this).hide();\n",
       "      }\n",
       "    });\n",
       "    $('div.output_prompt').css('opacity', 0);\n",
       "  } else {\n",
       "    $('div.input').each(function(id) {\n",
       "      $(this).show();\n",
       "    });\n",
       "    $('div.output_prompt').css('opacity', 1);\n",
       "  }\n",
       "  code_show = !code_show\n",
       "} \n",
       "$( document ).ready(code_toggle);\n",
       "</script>\n",
       "<form action=\"javascript:code_toggle()\"><input style=\"opacity:0\" type=\"submit\" value=\"Click here to toggle on/off the raw code.\"></form>"
      ],
      "text/plain": [
       "<IPython.core.display.HTML object>"
      ]
     },
     "execution_count": 1,
     "metadata": {},
     "output_type": "execute_result"
    }
   ],
   "source": [
    "%matplotlib inline\n",
    "print \"Press below for code fields to appear/hide\"\n",
    "from IPython.display import HTML\n",
    "\n",
    "hide_me = ''\n",
    "HTML('''<script>\n",
    "code_show=true; \n",
    "function code_toggle() {\n",
    "  if (code_show) {\n",
    "    $('div.input').each(function(id) {\n",
    "      el = $(this).find('.cm-variable:first');\n",
    "      if (id == 0 || el.text() == 'hide_me') {\n",
    "        $(this).hide();\n",
    "      }\n",
    "    });\n",
    "    $('div.output_prompt').css('opacity', 0);\n",
    "  } else {\n",
    "    $('div.input').each(function(id) {\n",
    "      $(this).show();\n",
    "    });\n",
    "    $('div.output_prompt').css('opacity', 1);\n",
    "  }\n",
    "  code_show = !code_show\n",
    "} \n",
    "$( document ).ready(code_toggle);\n",
    "</script>\n",
    "<form action=\"javascript:code_toggle()\"><input style=\"opacity:0\" type=\"submit\" value=\"Click here to toggle on/off the raw code.\"></form>''')\n",
    "#For Python 3.0:\n",
    "#Worked for me on iPython 3.1.0 if I put it inside code cell. I replaced the\n",
    "#<form action ... > ... </form> with simple HTML like.\n",
    "#The raw code for this IPython notebook is by default hidden for easier reading.\n",
    "#To toggle on/off the raw code, click <a href=\"javascript:code_toggle()\">here</a>.\n"
   ]
  },
  {
   "cell_type": "markdown",
   "metadata": {},
   "source": [
    "Modeling, simulation and analysis with Virtual Epileptic Patient module of TVB"
   ]
  },
  {
   "cell_type": "markdown",
   "metadata": {},
   "source": [
    "# The 6D (full model) Epileptor:\n",
    "\n",
    "\n",
    "\\begin{eqnarray}\n",
    "                \\dot{x}_{i1} &=& y_{1i} - f_{1}(x_{i1}, x_{i2}) - z_i + I_{ext1_i} \\\\\n",
    "                \\dot{y}_{i1} &=& yc_{1i} - d_{i} x_{i1}^{2} - y_{i1} \\\\\n",
    "                \\dot{z}_i &=& 1/ \\tau_{0_{i}}( f_{zx}(x_{i1}, -x_{0_i}) - f_{zz}(z_i) - K_i \\sum_{j=1}^Nw_{ij}(x_{j1}-x_{i1}) )\\\\\n",
    "                \\dot{x}_{i2} &=& -y_{i2} + x_{i2} - x_{i2}^{3} + I_{ext2_i} + 2 g_i - 0.3 (z_i-3.5) \\\\\n",
    "                \\dot{y}_{i2} &=& 1 / \\tau_{2_i}(-y_{i2} + f_{2}(x_{i2}))\\\\\n",
    "                \\dot{u}_i &=& -\\gamma_i (u_i - 0.1 (x_{i1}-5/3))\n",
    "\\end{eqnarray}\n",
    "\n",
    "where:\n",
    "\n",
    "\\begin{eqnarray}\n",
    "                f_{1}(x_{i1}, x_{i2}) &=&\n",
    "                \\begin{cases}\n",
    "                a_{i}x_{i1}^{3} - b_{i}x_{i1}^2, & \\text{if } x_{i1} <0\\\\\n",
    "                (x_{i2} - 0.6(z_i-4)^2 -slope_i) x_{i1} &\\text{if }x_{i1} \\geq 0\\\\\n",
    "                \\end{cases} \\\\\n",
    "                f_{zx}(x_{i1},x_{0_i}) &=&\n",
    "                \\begin{cases}\n",
    "                4 (x_{i1} - x_{0_i}) & \\text{linear} \\\\\n",
    "                3 (1+e^{-10(x_{i1}+0.5)}))^{-1} - x_{0_i} & \\text{sigmoidal} \\\\\n",
    "                \\end{cases}  \\\\\n",
    "                f_{zz}(z_i) &=&\n",
    "                \\begin{cases}\n",
    "                z_i+0.1 z_i^{7} & \\text{if } x_i<0 \\\\\n",
    "                z_i & \\text{if } x_i \\geq 0 \\\\\n",
    "                \\end{cases} \\\\\n",
    "                f_{2}(x_{i2}) &=&\n",
    "                \\begin{cases}\n",
    "                0 & \\text{if } x_{i2} <-0.25\\\\\n",
    "                s_{i}(x_{i2} + 0.25) & \\text{if } x_{i2} \\geq -0.25 \\\\\n",
    "                \\end{cases}\n",
    "\\end{eqnarray}  \n",
    "\n",
    "with the default parameter values $a_{i} = 1$, $b_{i} = 3$, $d_{i} = 5$, $s_{i} = 6$, $slope_{i} = 0$, $\\gamma_{i} = 0.1$, $I_{ext1_{i}} = 3.1$, $I_{ext2_{i}} = 0.45$, $K_{i} \\in [0.0, ]$ with $K_{i} = 10/NumberOfRegions$ as a good choice (i.e., weak coupling), $\\tau_{0_i} = 2857$ (but $\\tau_{0_i} \\in [10, 400000)$ for realistic seizures), $\\tau_{2_i} = 10$, and the general time scale somewhere within $\\tau_{1_i} \\in [0.5, 1.0]$ for most cases.\n",
    "\n",
    "\n"
   ]
  },
  {
   "cell_type": "markdown",
   "metadata": {},
   "source": [
    "# The 2D Epileptor (used for linear stability analysis, equilibria calculation, and most of data fitting):\n",
    "\n",
    "\\begin{eqnarray}\n",
    "                \\dot{x}_{i1} &=& y_{c_i} - f_{x1}(x_{i1}, z_i) - z_i + I_{ext1_i} \\\\\n",
    "                \\dot{z}_i &=& 1/ \\tau_{0_{i}}( f_{z}(x_{i1},x_{0_i}) - z_i - K_i \\sum_{j=1}^Nw_{ij}(x_{j1}-x_{i1}) )\\\\\n",
    "\\end{eqnarray}\n",
    "\n",
    "where:\n",
    "\n",
    "\\begin{eqnarray}\n",
    "                f_{x1}(x_{i1}, z_i) &=&\n",
    "                \\begin{cases}\n",
    "                 a_{i}x_{i1}^{3} +(d_{i}-b_{i})x_{i1}^2 & \\text{if } x_{i1} <0\\\\\n",
    "                (5x_{i1} - 0.6(z_i-4)^2 -slope_i) x_{i1} &\\text{if }x_{i1} \\geq 0\\\\\n",
    "                \\end{cases}\\\\\n",
    "                f_{z}(x_{i1},x_{0_i}) &=&\n",
    "                \\begin{cases}\n",
    "                4 (x_{i1} - x_{0_i}) & \\text{linear} \\\\\n",
    "                3 (1+e^{-10(x_{i1}+0.5)}))^{-1} - x_{0_i} & \\text{sigmoidal} \\\\\n",
    "                \\end{cases} \\\\\n",
    "\\end{eqnarray}\n",
    "\n",
    "\n",
    "For the default parameters, and in the absence of coupling ($K_i=0$), there is an equilibrium point (i.e., $\\dot{x_{i1}}=0$ ,  $\\dot{z}_i=0$ ) at $x_{i1}^{eq}=-4/3$ for $x_{0_i}ˆ{cr}=-2.06$, whereas $x_{i1}ˆ{eq}=-5/3$ for $x_{0_i}=-2.46$, taken as default \"healthy\" values."
   ]
  },
  {
   "cell_type": "markdown",
   "metadata": {},
   "source": [
    "# Hypothesis definition \n",
    "Assuming default parameters, we can define a clinical hypothesis\n",
    "in terms of \n",
    "___Epileptogenicity___ $E_i\\in[0,1]$, defined as $E_i=3x_{i1}^{eq}+5$ ,\n",
    "or\n",
    "___Excitability___ $x_{0_i}$ scaled accordingly so that x0 $x_{0_i}ˆ{cr} = 1.0$\n",
    "and combinations thereof (see below)"
   ]
  },
  {
   "cell_type": "markdown",
   "metadata": {},
   "source": [
    "# Equilibria calculation for linear stability analysis\n",
    "\n",
    "The 2D Epileptor is used with $x_{i1}<0$"
   ]
  },
  {
   "cell_type": "markdown",
   "metadata": {},
   "source": [
    "## Epileptogenicity -> Equilibrium \n",
    "Starting from Epileptogenicity $E_i$, we get $x_{i1}^{eq}=(E_i-5)/3$\n",
    "\n",
    "and, then, from $\\dot{x}_{i1}=0$, we calculate $z_{i}^{eq}=y_{c_i}Equilibrium-a_ix_{i1}^{3} -(d_i-b_i)x_{i1}^2+ I_{ext1_i}$\n",
    "\n",
    "and, finally, from $\\dot{z}_{i}=0$, we calculate $x_{0_i}=(4x_{i1}^{eq}-z_{i}^{eq}-K_i\\sum_{j=1}^Nw_{ij}(x_{j1}^{eq}-x_{i1}^{eq})))/4$"
   ]
  },
  {
   "cell_type": "markdown",
   "metadata": {},
   "source": [
    "## Excitability -> Equilibrium point\n",
    "### or\n",
    "## Mixed case: (Epileptogenicity & Excitability) -> Equilibrium point\n",
    "A system of nonlinear or linear (after Taylor expansion) equations has to be solved computationally or analytically, respectively."
   ]
  },
  {
   "cell_type": "markdown",
   "metadata": {},
   "source": [
    "# Linear Stability Analysis (LSA)\n",
    "In order to find the expression of the 2D Epileptor on the slow $z_i$ manifold, we approximate the cubic term $x_{i1}^3$ of $\\dot{x}_{i1}$ with a Taylor series expansion of second order at the point $x'_{i1}=x'_{i1}ˆ(eq)=-4/3$, and then, solve $\\dot{x}_{i1}$ for $x_{i1}$ to get:\n",
    "$$x_{i1} = F_{x_1}(z_i) = -4/3 - 1/2\\sqrt{2(z_i - y_{c_i} - I_{ext1_i})+64/27}$$\n",
    "\n",
    "and by substitution into $\\dot{z_{i}}$, we get:\n",
    "$$\\dot{z_{i}} = 1/ \\tau_{0_{i}}( 4 (F_{x_1}(z_i) -x_{0_i}) - z_i - K_i \\sum_{j=1}^Nw_{ij}(F_{x_1}(z_j)-F_{x_1}(z_i)) )$$\n",
    "\n",
    "Besides, we also need the derivative of $F_{x_1}(z_i)$ to $z_i$:\n",
    "$$\\frac{dF_{x_1}}{dz_i}(z_i) = F'_{x_1} =  -\\frac{1}{2\\sqrt{2(z_i - y_{c_i} - I_{ext1_i})+64/27}}$$\n",
    "\n",
    "at which point we can calculate the Jacobian of $\\dot{z_{i}}$ as:\n",
    "\n",
    "\\begin{eqnarray}\n",
    "                \\mathbf{J}^{NxN} &=&\n",
    "                \\begin{cases}\n",
    "                [F'_{x_1}(z_i) (4+K_i\\sum_{j \\neq i}w_{ij})-1] & \\text{ for } i = j \\\\\n",
    "                [-K_{i}w_{ij}F'_{x_1}(z_i)] & \\text{ for } i \\neq j  \\\\\n",
    "                \\end{cases} \\\\\n",
    "\\end{eqnarray}\n",
    "\n",
    "Then, we perform eigenvalue decomposition of the determinant of J at the equilibrium point calculated according to an hypothesis, as described above:\n",
    "$$|\\mathbf{J}(z_i^{eq})-\\lambda \\mathbf{I}^{NxN}|=0$$\n",
    "\n",
    "We sort the resulting eigenvalues $\\lambda_i$ and eigenvectors $$\\mathbf{V}_i$$ in order of decreasing (negative) eigenvalues, and we use up to the $N_s$ first eigenvectors to calculate an index of seizure ___Propagation Strength___, as the absolute sum of the respective eigenvectors:\n",
    "$$\\mathbf{PS}_i = \\sum_{j=1...N_s}|\\mathbf{V}_i|$$\n",
    "potentially weighted by their eigenvalues."
   ]
  }
 ],
 "metadata": {
  "celltoolbar": "Raw Cell Format",
  "kernelspec": {
   "display_name": "Python 2",
   "language": "python",
   "name": "python2"
  },
  "language_info": {
   "codemirror_mode": {
    "name": "ipython",
    "version": 2
   },
   "file_extension": ".py",
   "mimetype": "text/x-python",
   "name": "python",
   "nbconvert_exporter": "python",
   "pygments_lexer": "ipython2",
   "version": "2.7.12"
  }
 },
 "nbformat": 4,
 "nbformat_minor": 0
}
