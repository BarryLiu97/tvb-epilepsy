{
 "cells": [
  {
   "cell_type": "markdown",
   "metadata": {
    "ExecuteTime": {
     "end_time": "2017-09-05T10:45:45.126017",
     "start_time": "2017-09-05T10:45:45.115729"
    },
    "cell_style": "center",
    "collapsed": false,
    "hide_input": false
   },
   "source": [
    "# TVB for Epilepsy\n"
   ]
  },
  {
   "cell_type": "markdown",
   "metadata": {},
   "source": [
    "### Basic configurations"
   ]
  },
  {
   "cell_type": "code",
   "execution_count": 1,
   "metadata": {
    "collapsed": false,
    "inputHidden": true,
    "outputHidden": true
   },
   "outputs": [],
   "source": [
    "!source activate python2.7.3\n",
    "#!source activate python2_7\n",
    "\n",
    "%matplotlib inline\n",
    "\n",
    "import sys\n",
    "stdout = sys.stdout\n",
    "\n",
    "import os\n",
    "\n",
    "import numpy as np\n",
    "from tvb_epilepsy.base.constants.config import Config\n",
    "from tvb_epilepsy.base.utils.log_error_utils import initialize_logger\n",
    "from tvb_epilepsy.io.tvb_data_reader import TVBReader\n",
    "from tvb_epilepsy.io.h5_reader import H5Reader\n",
    "from tvb_epilepsy.io.h5_writer import H5Writer\n",
    "from tvb_epilepsy.plot.plotter import Plotter\n",
    "\n",
    "# input_folder = os.path.join(os.path.expanduser(\"~\"), 'Dropbox', 'Work', 'VBtech', 'VEP', \"results\", \"CC\", \"TVB3\", \"tvb\")\n",
    "# head_folder = os.path.join(os.path.expanduser(\"~\"), 'Dropbox', 'Work', 'VBtech', 'VEP', \"results\", \"CC\", \"TVB3\", \"Head\")\n",
    "input_folder = os.path.join(os.path.expanduser(\"~\"), 'Dropbox', 'Work', 'VBtech', 'VEP', \"results\", \"INS\", \"TREC\", \"TREC88HH\")\n",
    "head_folder = os.path.join(os.path.expanduser(\"~\"), 'Dropbox', 'Work', 'VBtech', 'VEP', \"results\", \"INS\", \"TREC\", \"TREC88HH\", \"Head\")\n",
    "output_folder = os.path.join(os.path.expanduser(\"~\"), 'Dropbox', 'Work', 'VBtech', 'VEP', \"results\", \"tests\")\n",
    "config = Config(head_folder=input_folder, output_base=output_folder, data_mode=\"tvb\") #, data_mode=\"java\"\n",
    "config.hypothesis.head_folder = head_folder\n",
    "config.figures.MATPLOTLIB_BACKEND=\"inline\"\n",
    "config.figures.SHOW_FLAG=True\n",
    "logger = initialize_logger(__name__, config.out.FOLDER_LOGS)\n",
    "reader = TVBReader() if config.input.IS_TVB_MODE else H5Reader()\n",
    "writer = H5Writer()\n",
    "plotter = Plotter(config)\n",
    "sys.stdout = stdout"
   ]
  },
  {
   "cell_type": "markdown",
   "metadata": {
    "collapsed": false,
    "inputHidden": false,
    "outputHidden": false
   },
   "source": [
    "### Read data from tvb or Head folder"
   ]
  },
  {
   "cell_type": "code",
   "execution_count": 2,
   "metadata": {
    "collapsed": false,
    "inputHidden": false,
    "outputExpanded": true,
    "outputHidden": false
   },
   "outputs": [
    {
     "ename": "ReaderException",
     "evalue": "File 'normals.txt' not found in ZIP.",
     "output_type": "error",
     "traceback": [
      "\u001b[0;31m---------------------------------------------------------------------------\u001b[0m",
      "\u001b[0;31mReaderException\u001b[0m                           Traceback (most recent call last)",
      "\u001b[0;32m<ipython-input-2-81cac9243657>\u001b[0m in \u001b[0;36m<module>\u001b[0;34m()\u001b[0m\n\u001b[1;32m      1\u001b[0m \u001b[0;31m### Reading data\u001b[0m\u001b[0;34m\u001b[0m\u001b[0;34m\u001b[0m\u001b[0m\n\u001b[1;32m      2\u001b[0m \u001b[0mlogger\u001b[0m\u001b[0;34m.\u001b[0m\u001b[0minfo\u001b[0m\u001b[0;34m(\u001b[0m\u001b[0;34m\"Reading from: \"\u001b[0m \u001b[0;34m+\u001b[0m \u001b[0mconfig\u001b[0m\u001b[0;34m.\u001b[0m\u001b[0minput\u001b[0m\u001b[0;34m.\u001b[0m\u001b[0mHEAD\u001b[0m\u001b[0;34m)\u001b[0m\u001b[0;34m\u001b[0m\u001b[0m\n\u001b[0;32m----> 3\u001b[0;31m \u001b[0mhead\u001b[0m \u001b[0;34m=\u001b[0m \u001b[0mreader\u001b[0m\u001b[0;34m.\u001b[0m\u001b[0mread_head\u001b[0m\u001b[0;34m(\u001b[0m\u001b[0mconfig\u001b[0m\u001b[0;34m.\u001b[0m\u001b[0minput\u001b[0m\u001b[0;34m.\u001b[0m\u001b[0mHEAD\u001b[0m\u001b[0;34m,\u001b[0m \u001b[0mseeg_sensors_files\u001b[0m\u001b[0;34m=\u001b[0m\u001b[0;34m[\u001b[0m\u001b[0;34m(\u001b[0m\u001b[0;34m\"seeg_xyz.txt\"\u001b[0m\u001b[0;34m,\u001b[0m\u001b[0;34m)\u001b[0m\u001b[0;34m]\u001b[0m\u001b[0;34m)\u001b[0m\u001b[0;34m\u001b[0m\u001b[0m\n\u001b[0m\u001b[1;32m      4\u001b[0m \u001b[0;31m# Plot\u001b[0m\u001b[0;34m\u001b[0m\u001b[0;34m\u001b[0m\u001b[0m\n\u001b[1;32m      5\u001b[0m \u001b[0;31m# plotter.plot_head(head)\u001b[0m\u001b[0;34m\u001b[0m\u001b[0;34m\u001b[0m\u001b[0m\n",
      "\u001b[0;32m/Users/dionperd/VEPtools/software/git/tvb-epilepsy/tvb_epilepsy/io/tvb_data_reader.py\u001b[0m in \u001b[0;36mread_head\u001b[0;34m(self, root_folder, name, connectivity_file, surface_file, region_mapping_file, eeg_sensors_files, meg_sensors_files, seeg_sensors_files)\u001b[0m\n\u001b[1;32m    128\u001b[0m                   ):\n\u001b[1;32m    129\u001b[0m         \u001b[0mconn\u001b[0m \u001b[0;34m=\u001b[0m \u001b[0mself\u001b[0m\u001b[0;34m.\u001b[0m\u001b[0mread_connectivity\u001b[0m\u001b[0;34m(\u001b[0m\u001b[0mos\u001b[0m\u001b[0;34m.\u001b[0m\u001b[0mpath\u001b[0m\u001b[0;34m.\u001b[0m\u001b[0mjoin\u001b[0m\u001b[0;34m(\u001b[0m\u001b[0mroot_folder\u001b[0m\u001b[0;34m,\u001b[0m \u001b[0mconnectivity_file\u001b[0m\u001b[0;34m)\u001b[0m\u001b[0;34m)\u001b[0m\u001b[0;34m\u001b[0m\u001b[0m\n\u001b[0;32m--> 130\u001b[0;31m         \u001b[0msrf\u001b[0m \u001b[0;34m=\u001b[0m \u001b[0mself\u001b[0m\u001b[0;34m.\u001b[0m\u001b[0mread_cortical_surface\u001b[0m\u001b[0;34m(\u001b[0m\u001b[0mos\u001b[0m\u001b[0;34m.\u001b[0m\u001b[0mpath\u001b[0m\u001b[0;34m.\u001b[0m\u001b[0mjoin\u001b[0m\u001b[0;34m(\u001b[0m\u001b[0mroot_folder\u001b[0m\u001b[0;34m,\u001b[0m \u001b[0msurface_file\u001b[0m\u001b[0;34m)\u001b[0m\u001b[0;34m)\u001b[0m\u001b[0;34m\u001b[0m\u001b[0m\n\u001b[0m\u001b[1;32m    131\u001b[0m         \u001b[0mrm\u001b[0m \u001b[0;34m=\u001b[0m \u001b[0mself\u001b[0m\u001b[0;34m.\u001b[0m\u001b[0mread_region_mapping\u001b[0m\u001b[0;34m(\u001b[0m\u001b[0mos\u001b[0m\u001b[0;34m.\u001b[0m\u001b[0mpath\u001b[0m\u001b[0;34m.\u001b[0m\u001b[0mjoin\u001b[0m\u001b[0;34m(\u001b[0m\u001b[0mroot_folder\u001b[0m\u001b[0;34m,\u001b[0m \u001b[0mregion_mapping_file\u001b[0m\u001b[0;34m)\u001b[0m\u001b[0;34m)\u001b[0m\u001b[0;34m\u001b[0m\u001b[0m\n\u001b[1;32m    132\u001b[0m         \u001b[0mvm\u001b[0m \u001b[0;34m=\u001b[0m \u001b[0mNone\u001b[0m\u001b[0;34m\u001b[0m\u001b[0m\n",
      "\u001b[0;32m/Users/dionperd/VEPtools/software/git/tvb-epilepsy/tvb_epilepsy/io/tvb_data_reader.py\u001b[0m in \u001b[0;36mread_cortical_surface\u001b[0;34m(self, path)\u001b[0m\n\u001b[1;32m     55\u001b[0m     \u001b[0;32mdef\u001b[0m \u001b[0mread_cortical_surface\u001b[0m\u001b[0;34m(\u001b[0m\u001b[0mself\u001b[0m\u001b[0;34m,\u001b[0m \u001b[0mpath\u001b[0m\u001b[0;34m)\u001b[0m\u001b[0;34m:\u001b[0m\u001b[0;34m\u001b[0m\u001b[0m\n\u001b[1;32m     56\u001b[0m         \u001b[0;32mif\u001b[0m \u001b[0mos\u001b[0m\u001b[0;34m.\u001b[0m\u001b[0mpath\u001b[0m\u001b[0;34m.\u001b[0m\u001b[0misfile\u001b[0m\u001b[0;34m(\u001b[0m\u001b[0mpath\u001b[0m\u001b[0;34m)\u001b[0m\u001b[0;34m:\u001b[0m\u001b[0;34m\u001b[0m\u001b[0m\n\u001b[0;32m---> 57\u001b[0;31m             \u001b[0mtvb_srf\u001b[0m \u001b[0;34m=\u001b[0m \u001b[0msurfaces\u001b[0m\u001b[0;34m.\u001b[0m\u001b[0mCorticalSurface\u001b[0m\u001b[0;34m.\u001b[0m\u001b[0mfrom_file\u001b[0m\u001b[0;34m(\u001b[0m\u001b[0mpath\u001b[0m\u001b[0;34m)\u001b[0m\u001b[0;34m\u001b[0m\u001b[0m\n\u001b[0m\u001b[1;32m     58\u001b[0m             return Surface(tvb_srf.vertices, tvb_srf.triangles,\n\u001b[1;32m     59\u001b[0m                            tvb_srf.vertex_normals, tvb_srf.triangle_normals)\n",
      "\u001b[0;32m/Users/dionperd/anaconda/envs/python2.7.3/lib/python2.7/site-packages/tvb/datatypes/surfaces.pyc\u001b[0m in \u001b[0;36mfrom_file\u001b[0;34m(cls, source_file, instance)\u001b[0m\n\u001b[1;32m    225\u001b[0m \u001b[0;34m\u001b[0m\u001b[0m\n\u001b[1;32m    226\u001b[0m         \u001b[0mresult\u001b[0m\u001b[0;34m.\u001b[0m\u001b[0mvertices\u001b[0m \u001b[0;34m=\u001b[0m \u001b[0mreader\u001b[0m\u001b[0;34m.\u001b[0m\u001b[0mread_array_from_file\u001b[0m\u001b[0;34m(\u001b[0m\u001b[0;34m\"vertices.txt\"\u001b[0m\u001b[0;34m)\u001b[0m\u001b[0;34m\u001b[0m\u001b[0m\n\u001b[0;32m--> 227\u001b[0;31m         \u001b[0mresult\u001b[0m\u001b[0;34m.\u001b[0m\u001b[0mvertex_normals\u001b[0m \u001b[0;34m=\u001b[0m \u001b[0mreader\u001b[0m\u001b[0;34m.\u001b[0m\u001b[0mread_array_from_file\u001b[0m\u001b[0;34m(\u001b[0m\u001b[0;34m\"normals.txt\"\u001b[0m\u001b[0;34m)\u001b[0m\u001b[0;34m\u001b[0m\u001b[0m\n\u001b[0m\u001b[1;32m    228\u001b[0m         \u001b[0mresult\u001b[0m\u001b[0;34m.\u001b[0m\u001b[0mtriangles\u001b[0m \u001b[0;34m=\u001b[0m \u001b[0mreader\u001b[0m\u001b[0;34m.\u001b[0m\u001b[0mread_array_from_file\u001b[0m\u001b[0;34m(\u001b[0m\u001b[0;34m\"triangles.txt\"\u001b[0m\u001b[0;34m,\u001b[0m \u001b[0mdtype\u001b[0m\u001b[0;34m=\u001b[0m\u001b[0mnumpy\u001b[0m\u001b[0;34m.\u001b[0m\u001b[0mint32\u001b[0m\u001b[0;34m)\u001b[0m\u001b[0;34m\u001b[0m\u001b[0m\n\u001b[1;32m    229\u001b[0m \u001b[0;34m\u001b[0m\u001b[0m\n",
      "\u001b[0;32m/Users/dionperd/anaconda/envs/python2.7.3/lib/python2.7/site-packages/tvb/basic/readers.pyc\u001b[0m in \u001b[0;36mread_array_from_file\u001b[0;34m(self, file_name, dtype, skip_rows, use_cols, matlab_data_name)\u001b[0m\n\u001b[1;32m    174\u001b[0m         \u001b[0;32mif\u001b[0m \u001b[0mmatching_file_name\u001b[0m \u001b[0;32mis\u001b[0m \u001b[0mNone\u001b[0m\u001b[0;34m:\u001b[0m\u001b[0;34m\u001b[0m\u001b[0m\n\u001b[1;32m    175\u001b[0m             \u001b[0mself\u001b[0m\u001b[0;34m.\u001b[0m\u001b[0mlogger\u001b[0m\u001b[0;34m.\u001b[0m\u001b[0mwarning\u001b[0m\u001b[0;34m(\u001b[0m\u001b[0;34m\"File %r not found in ZIP.\"\u001b[0m \u001b[0;34m%\u001b[0m \u001b[0mfile_name\u001b[0m\u001b[0;34m)\u001b[0m\u001b[0;34m\u001b[0m\u001b[0m\n\u001b[0;32m--> 176\u001b[0;31m             \u001b[0;32mraise\u001b[0m \u001b[0mReaderException\u001b[0m\u001b[0;34m(\u001b[0m\u001b[0;34m\"File %r not found in ZIP.\"\u001b[0m \u001b[0;34m%\u001b[0m \u001b[0mfile_name\u001b[0m\u001b[0;34m)\u001b[0m\u001b[0;34m\u001b[0m\u001b[0m\n\u001b[0m\u001b[1;32m    177\u001b[0m \u001b[0;34m\u001b[0m\u001b[0m\n\u001b[1;32m    178\u001b[0m         \u001b[0mzip_entry\u001b[0m \u001b[0;34m=\u001b[0m \u001b[0mself\u001b[0m\u001b[0;34m.\u001b[0m\u001b[0mzip_archive\u001b[0m\u001b[0;34m.\u001b[0m\u001b[0mopen\u001b[0m\u001b[0;34m(\u001b[0m\u001b[0mmatching_file_name\u001b[0m\u001b[0;34m,\u001b[0m \u001b[0;34m'rU'\u001b[0m\u001b[0;34m)\u001b[0m\u001b[0;34m\u001b[0m\u001b[0m\n",
      "\u001b[0;31mReaderException\u001b[0m: File 'normals.txt' not found in ZIP."
     ]
    }
   ],
   "source": [
    "### Reading data\n",
    "logger.info(\"Reading from: \" + config.input.HEAD)\n",
    "head = reader.read_head(config.input.HEAD, seeg_sensors_files=[(\"seeg_xyz.txt\",)])\n",
    "# Plot\n",
    "# plotter.plot_head(head)"
   ]
  },
  {
   "cell_type": "markdown",
   "metadata": {
    "collapsed": false,
    "inputHidden": false,
    "outputHidden": false
   },
   "source": [
    "### Generate an hypothesis by manual definition "
   ]
  },
  {
   "cell_type": "code",
   "execution_count": null,
   "metadata": {
    "collapsed": false,
    "inputHidden": false,
    "outputHidden": false
   },
   "outputs": [],
   "source": [
    "# Formulate a VEP hypothesis manually\n",
    "from tvb_epilepsy.service.hypothesis_builder import HypothesisBuilder\n",
    "\n",
    "hyp_builder = HypothesisBuilder(head.connectivity.number_of_regions, config).set_normalize(0.99)\n",
    "\n",
    "# Regions of Pathological Excitability hypothesis:\n",
    "x0_indices = [2, 25]\n",
    "x0_values = [0.01, 0.01]\n",
    "hyp_builder.set_x0_hypothesis(x0_indices, x0_values)\n",
    "\n",
    "# Regions of Model Epileptogenicity hypothesis:\n",
    "e_indices = list(range(head.connectivity.number_of_regions))\n",
    "e_indices.remove(2)\n",
    "e_indices.remove(25)\n",
    "e_values = np.zeros((head.connectivity.number_of_regions, )) + 0.01\n",
    "e_values[[1, 26]] = 0.99\n",
    "e_values = np.delete(e_values, [2, 25]).tolist()\n",
    "print(e_indices, e_values)\n",
    "hyp_builder.set_e_hypothesis(e_indices, e_values)\n",
    "\n",
    "# Regions of Connectivity hypothesis:\n",
    "w_indices = [] # [(0, 1), (0, 2)] \n",
    "w_values = [] # [0.5, 2.0] \n",
    "# hypo_builder.set_w_indices(w_indices).set_w_values(w_values)\n",
    "\n",
    "hypothesis = hyp_builder.build_hypothesis()"
   ]
  },
  {
   "cell_type": "markdown",
   "metadata": {
    "collapsed": false,
    "inputHidden": false,
    "outputHidden": false
   },
   "source": [
    "### ...or by reading from epileptogenicity file..."
   ]
  },
  {
   "cell_type": "code",
   "execution_count": null,
   "metadata": {
    "collapsed": false
   },
   "outputs": [],
   "source": [
    "from tvb_epilepsy.service.hypothesis_builder import HypothesisBuilder\n",
    "# Read clinical hypothesis \n",
    "hyp_builder = HypothesisBuilder(head.connectivity.number_of_regions, config).set_normalize(0.99)\n",
    "e_indices = [1, 26]# [1, 2, 25, 26]\n",
    "hypothesis = hyp_builder.build_hypothesis_from_file(\"clinical_hypothesis_postseeg\", e_indices) \n",
    "# Change something manually if necessary\n",
    "hypothesis.x0_values = [0.01, 0.01]"
   ]
  },
  {
   "cell_type": "markdown",
   "metadata": {
    "collapsed": false,
    "inputHidden": false,
    "outputHidden": false
   },
   "source": [
    "### Print hypothesis"
   ]
  },
  {
   "cell_type": "code",
   "execution_count": null,
   "metadata": {
    "collapsed": false,
    "inputHidden": false,
    "outputHidden": false
   },
   "outputs": [],
   "source": [
    "disease_indices = hypothesis.get_regions_disease_indices()\n",
    "disease_values = hypothesis.get_regions_disease_values()\n",
    "w_indices = hypothesis.get_connectivity_disease_indices()\n",
    "w_values = hypothesis.get_connectivity_disease_values()\n",
    "n_w = len(w_indices)\n",
    "n_e = len(e_indices)\n",
    "n_disease = len(disease_indices)\n",
    "n_x0 = n_disease - n_e\n",
    "all_regions_indices = np.array(range(head.number_of_regions))\n",
    "healthy_indices = np.delete(all_regions_indices, disease_indices).tolist()\n",
    "n_healthy = len(healthy_indices)\n",
    "print(hypothesis)\n",
    "print(hypothesis.string_regions_disease(head.connectivity.region_labels))\n",
    "print(hypothesis.string_connectivity_disease(head.connectivity.region_labels))"
   ]
  },
  {
   "cell_type": "markdown",
   "metadata": {},
   "source": [
    "### Generate model configuration from hypothesis"
   ]
  },
  {
   "cell_type": "code",
   "execution_count": null,
   "metadata": {
    "collapsed": false
   },
   "outputs": [],
   "source": [
    "from tvb_epilepsy.service.model_configuration_builder import ModelConfigurationBuilder\n",
    "from tvb_epilepsy.base.constants.model_constants import K_DEF\n",
    "\n",
    "logger.info(\"\\n\\nRunning hypothesis: \" + hypothesis.name)\n",
    "logger.info(\"\\n\\nCreating model configuration...\")\n",
    "K = 3*K_DEF # in the case of the above hypothesis read from file\n",
    "# K = 5*K_DEF # in the case of the above manual hypothesis\n",
    "model_config_builder = ModelConfigurationBuilder(hypothesis.number_of_regions, K=K)\n",
    "mcs_file = os.path.join(config.out.FOLDER_RES, hypothesis.name + \"_model_config_service.h5\")\n",
    "writer.write_model_configuration_builder(model_config_builder, mcs_file)\n",
    "print(hypothesis.string_regions_disease())\n",
    "# Assume all healthy nodes have x0_values = 0.0:\n",
    "model_configuration = model_config_builder.build_model_from_hypothesis(hypothesis, head.connectivity.normalized_weights)\n",
    "# # Assume all healthy nodes have e_values = 0.0\n",
    "# model_configuration = model_config_builder.build_model_from_E_hypothesis(hypothesis, head.connectivity.normalized_weights)\n",
    "print \"K =\", np.mean(model_configuration.K)\n",
    "print \"x0_max =\", np.max(model_configuration.x0)\n",
    "print \"x0_min =\", np.min(model_configuration.x0)\n",
    "mc_path = os.path.join(config.out.FOLDER_RES, hypothesis.name + \"_ModelConfig.h5\")\n",
    "writer.write_model_configuration(model_configuration, mc_path)\n",
    "# Plot nullclines and equilibria of model configuration\n",
    "plotter.plot_state_space(model_configuration, \"2D\", head.connectivity.region_labels, \n",
    "                         special_idx=hypothesis.x0_indices + hypothesis.e_indices, \n",
    "                         figure_name=hypothesis.name + \"_StateSpace\")"
   ]
  },
  {
   "cell_type": "markdown",
   "metadata": {},
   "source": [
    "### Run linear stability analysis"
   ]
  },
  {
   "cell_type": "code",
   "execution_count": null,
   "metadata": {
    "collapsed": false
   },
   "outputs": [],
   "source": [
    "# Run linear stability analysis\n",
    "from tvb_epilepsy.service.lsa_service import LSAService\n",
    "logger.info(\"\\n\\nRunning LSA...\")\n",
    "# Options for eigen_vectors_number: \n",
    "# \"auto_eigenvals\": eigenvalues curve elbow point selection,\n",
    "# \"auto_disease\": len(n_disease), \n",
    "# \"auto_epileptogenicity\": Model Epileptogenicity curve elbow point selection,\n",
    "# \"auto_excitability\": Pathological Excitability curve elbow point selection\n",
    "# or \"user_defined\": a number equal to from 1 to hypothesis.number_of_regions\n",
    "lsa_service = LSAService(eigen_vectors_number=None, \n",
    "                         eigen_vectors_number_selection=\"auto_eigenvals\", \n",
    "                         weighted_eigenvector_sum=True, \n",
    "                         normalize_propagation_strength=False)\n",
    "lsa_hypothesis = lsa_service.run_lsa(hypothesis, model_configuration)\n",
    "print(lsa_hypothesis)\n",
    "lsa_path = os.path.join(config.out.FOLDER_RES, lsa_hypothesis.name + \"_LSA.h5\")\n",
    "lsa_config_path = os.path.join(config.out.FOLDER_RES, lsa_hypothesis.name + \"_LSAConfig.h5\")\n",
    "writer.write_hypothesis(lsa_hypothesis, lsa_path)\n",
    "writer.write_lsa_service(lsa_service, lsa_config_path)\n",
    "\n",
    "# Plot\n",
    "plotter.plot_lsa(lsa_hypothesis, model_configuration, lsa_service.weighted_eigenvector_sum,\n",
    "                 lsa_service.eigen_vectors_number, head.connectivity.region_labels, None);"
   ]
  },
  {
   "cell_type": "markdown",
   "metadata": {
    "collapsed": false
   },
   "source": [
    "\n",
    "### Run parameter search exploration for linear stability analysis around the clinical hypothesis"
   ]
  },
  {
   "cell_type": "code",
   "execution_count": null,
   "metadata": {
    "collapsed": false
   },
   "outputs": [],
   "source": [
    "from tvb_epilepsy.top.scripts.pse_scripts import pse_from_lsa_hypothesis\n",
    "# --------------Parameter Search Exploration (PSE)-------------------------------\n",
    "logger.info(\"\\n\\nRunning PSE LSA...\")\n",
    "n_samples = 100\n",
    "pse_results = pse_from_lsa_hypothesis(n_samples, lsa_hypothesis, \n",
    "                                      head.connectivity.normalized_weights,\n",
    "                                      model_config_builder, lsa_service,\n",
    "                                      head.connectivity.region_labels,\n",
    "                                      param_range=0.1,\n",
    "                                      global_coupling=[{\"indices\": all_regions_indices}],\n",
    "                                      healthy_regions_parameters=[\n",
    "                                                        {\"name\": \"x0_values\", \"indices\": healthy_indices}],\n",
    "                                     logger=logger, save_flag=True)[0]\n",
    "plotter.plot_lsa(lsa_hypothesis, model_configuration, lsa_service.weighted_eigenvector_sum,\n",
    "                lsa_service.eigen_vectors_number, head.connectivity.region_labels, pse_results)\n",
    "\n",
    "pse_lsa_path = os.path.join(config.out.FOLDER_RES, lsa_hypothesis.name + \"_PSE_LSA_results.h5\")\n",
    "writer.write_dictionary(pse_results, pse_lsa_path)"
   ]
  },
  {
   "cell_type": "markdown",
   "metadata": {
    "collapsed": false,
    "scrolled": true
   },
   "source": [
    "### Simulation\n"
   ]
  },
  {
   "cell_type": "code",
   "execution_count": null,
   "metadata": {
    "collapsed": false
   },
   "outputs": [],
   "source": [
    "from collections import OrderedDict\n",
    "from tvb_epilepsy.base.model.timeseries import Timeseries, TimeseriesDimensions\n",
    "from tvb_epilepsy.service.simulator.simulator_builder import SimulatorBuilder\n",
    "from tvb_epilepsy.top.scripts.simulation_scripts import compute_seeg_and_write_ts_to_h5\n",
    "\n",
    "# --------------------------Simulation-----------------------------------\n",
    "sim_type = \"realistic\" #\"tvb\" # \"fitting\"\n",
    "logger.info(\"\\n\\nConfiguring simulation from model_configuration...\")\n",
    "# If you choose model...\n",
    "# Available models beyond the TVB Epileptor (they all encompass optional variations from the different papers):\n",
    "# EpileptorDP: similar to the TVB Epileptor + optional variations,\n",
    "# EpileptorDP2D: reduced 2D model, following Proix et all 2014 +optional variations,\n",
    "# EpleptorDPrealistic: starting from the TVB Epileptor + optional variations, but:\n",
    "#      -x0, Iext1, Iext2, slope and K become noisy state variables,\n",
    "#      -Iext2 and |slope are coupled to z, g, or z*g in order for spikes to appear before seizure,\n",
    "#      -multiplicative correlated noise is also used\n",
    "# We don't want any time delays for the moment\n",
    "head.connectivity.tract_lengths *= 0.0\n",
    "sim_builder = SimulatorBuilder(config.simulator.MODE)\n",
    "# First set model name, then build settings!\n",
    "report_every_n_monitor_step=100\n",
    "if sim_type == \"realistic\":\n",
    "    model = sim_builder.set_model_name(\"EpileptorDPrealistic\").generate_model_tvb(model_configuration)\n",
    "    model.tau0 = 30000.0\n",
    "    model.tau1 = 0.2\n",
    "    model.slope = 0.25\n",
    "    sim_settings = sim_builder.set_simulated_period(30000).build_sim_settings()\n",
    "    from tvb_epilepsy.base.constants.model_constants import COLORED_NOISE\n",
    "    sim_settings.noise_type = COLORED_NOISE\n",
    "    sim_settings.noise_ntau = 10\n",
    "    report_every_n_monitor_step=1000\n",
    "elif sim_type == \"fitting\":\n",
    "    model = sim_builder.set_model_name(\"EpileptorDP2D\").generate_model_tvb(model_configuration)\n",
    "    model.tau0 = 300.0\n",
    "    model.tau1 = 0.5\n",
    "    sim_settings = sim_builder.set_fs(2048.0).set_simulated_period(2000).build_sim_settings()\n",
    "    sim_settings.noise_intensity = [0.0, 1e-5]\n",
    "elif sim_type == \"reduced\":\n",
    "    model = sim_builder.set_model_name(\"EpileptorDP2D\").generate_model_tvb(model_configuration)\n",
    "    model.tau0 = 2857.0\n",
    "    model.tau1 = 0.5\n",
    "    sim_settings = sim_builder.set_fs(2048.0).set_simulated_period(5000).build_sim_settings()\n",
    "    sim_settings.noise_intensity = [0.0, 1e-7]\n",
    "elif sim_type == \"tvb\":\n",
    "   model = sim_builder.set_model_name(\"Epileptor\").generate_model_tvb(model_configuration)\n",
    "   sim_settings = sim_builder.set_simulated_period(5000).build_sim_settings()\n",
    "else:\n",
    "   model = sim_builder.generate_model(model_configuration)\n",
    "   sim_settings = sim_builder.build_sim_settings()  # \"EpileptorDP\" by default\n",
    "\n",
    "sim, sim_settings, model = sim_builder.build_simulator_TVB_from_model_sim_settings(model_configuration, \n",
    "                                                                                   head.connectivity, model, sim_settings)\n",
    "\n",
    "sim_path = os.path.join(config.out.FOLDER_RES, lsa_hypothesis.name + \"_sim_settings.h5\")\n",
    "writer.write_simulation_settings(sim.simulation_settings, sim_path)\n",
    "writer.write_generic(sim.model, config.out.FOLDER_RES, lsa_hypothesis.name + \"_sim_model.h5\")\n",
    "\n",
    "# Integrator and initial conditions initialization.\n",
    "# By default initial condition is set right on the equilibrium point.\n",
    "logger.info(\"\\n\\nSimulating...\")\n",
    "ttavg, tavg_data, status = sim.launch_simulation(report_every_n_monitor_steps=1000)\n",
    "\n",
    "if not status:\n",
    "    logger.warning(\"\\nSimulation failed!\")\n",
    "else:\n",
    "    time = np.array(ttavg, dtype='float32')\n",
    "    output_sampling_time = np.mean(np.diff(time))\n",
    "    tavg_data = tavg_data[:, :, :, 0]\n",
    "    logger.info(\"\\n\\nSimulated signal return shape: %s\", tavg_data.shape)\n",
    "    logger.info(\"Time: %s - %s\", time[0], time[-1])\n",
    "    logger.info(\"Values: %s - %s\", tavg_data.min(), tavg_data.max())\n",
    "    \n",
    "    ts_obj = Timeseries(np.swapaxes(tavg_data, 1, 2), OrderedDict(\n",
    "                        {TimeseriesDimensions.SPACE.value: sim.connectivity.region_labels, \n",
    "                         TimeseriesDimensions.STATE_VARIABLES.value: sim_settings.monitor_expressions}), time[0], \n",
    "                        time[1] - time[0], \"ms\")\n",
    "\n",
    "\n",
    "    compute_seeg_and_write_ts_to_h5(ts_obj, sim.model, head.sensorsSEEG, output_sampling_time, \n",
    "                                    os.path.join(config.out.FOLDER_RES, lsa_hypothesis.name + \"_ts.h5\"), \n",
    "                                    hpf_flag=True, hpf_low=10.0, hpf_high=512.0)\n",
    "\n",
    "    # Plot results\n",
    "    if model._ui_name is \"EpileptorDP2D\":\n",
    "        spectral_raster_plot = False\n",
    "    else:\n",
    "        spectral_raster_plot = False # \"lfp\"\n",
    "    plotter.plot_simulated_timeseries(ts_obj, sim.model, lsa_hypothesis.lsa_propagation_indices, \n",
    "                                      spectral_raster_plot=spectral_raster_plot, log_scale=True)\n",
    "\n"
   ]
  },
  {
   "cell_type": "code",
   "execution_count": null,
   "metadata": {
    "collapsed": true
   },
   "outputs": [],
   "source": [
    "# Optionally save results in mat file...\n",
    "from scipy.io import savemat\n",
    "savemat(os.path.join(config.out.FOLDER_RES, lsa_hypothesis.name + \"_ts.mat\"), res_ts)\n",
    "# ...or in .npy file:\n",
    "# np.save(os.path.join(config.out.FOLDER_RES, lsa_hypothesis.name + \"_ts.npy\"), res_ts)"
   ]
  },
  {
   "cell_type": "code",
   "execution_count": null,
   "metadata": {
    "collapsed": false
   },
   "outputs": [],
   "source": [
    "config.out.FOLDER_RES"
   ]
  },
  {
   "cell_type": "code",
   "execution_count": null,
   "metadata": {
    "collapsed": true
   },
   "outputs": [],
   "source": []
  }
 ],
 "metadata": {
  "hide_input": false,
  "kernel_info": {
   "name": "python2"
  },
  "kernelspec": {
   "display_name": "Python 2",
   "language": "python",
   "name": "python2"
  },
  "language_info": {
   "codemirror_mode": {
    "name": "ipython",
    "version": 2
   },
   "file_extension": ".py",
   "mimetype": "text/x-python",
   "name": "python",
   "nbconvert_exporter": "python",
   "pygments_lexer": "ipython2",
   "version": "2.7.12"
  },
  "latex_envs": {
   "bibliofile": "biblio.bib",
   "cite_by": "apalike",
   "current_citInitial": 1,
   "eqLabelWithNumbers": true,
   "eqNumInitial": 0
  },
  "nav_menu": {},
  "nteract": {
   "version": "0.7.0"
  },
  "toc": {
   "navigate_menu": true,
   "number_sections": true,
   "sideBar": true,
   "threshold": 6,
   "toc_cell": false,
   "toc_section_display": "block",
   "toc_window_display": false
  }
 },
 "nbformat": 4,
 "nbformat_minor": 1
}
