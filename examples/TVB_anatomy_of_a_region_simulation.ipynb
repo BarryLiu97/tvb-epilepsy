{
 "cells": [
  {
   "cell_type": "code",
   "execution_count": 3,
   "metadata": {
    "collapsed": false
   },
   "outputs": [],
   "source": [
    "%pylab inline"
   ]
  },
  {
   "cell_type": "markdown",
   "metadata": {},
   "source": [
    "The Anatomy of a Region Simulation\n",
    "============================================"
   ]
  },
  {
   "cell_type": "markdown",
   "metadata": {},
   "source": [
    "This tutorial presents the basic anatomy of a region simulation using The Virtual Brain's (TVB's) scripting interface. \n",
    "\n",
    "A script implementing the basic simulation described below can be found in tvb.simulator.demos\n",
    "\n",
    "The first thing we want to do is import the modules we'll need for a simulation. A basic simulation consists of five main components, each of these components is an object within TVB:\n",
    "\n",
    "1. *Model*, which is, at its core, a set of differential equations describing the local neuronal dynamics;\n",
    "2. *Connectivity*, represents the large scale structural connectivity of the brain, ie white-matter tracts;\n",
    "3. *Coupling*, is a function that is used to join the local *Model* dynamics at distinct locations over the connections described in *Connectivity*;\n",
    "4. *Integrator*, is the integration scheme that will be applied to the coupled set of differential equations;\n",
    "5. *Monitors*, one or more Monitors can be attached to a simulation, they act to record the output from the *Simulator*.\n",
    "\n",
    "All of these components are brought together in a *Simulator* object, which is then used to run a simulation.\n",
    "\n",
    "Hopefully this will make more sense with an explicit example.\n",
    "\n",
    "NOTE: If you're working from a static web page, pasting the commands from this page into an ipython terminal should work. Alternatively, this tutorial is available as an ipython notebook, in that case the code is evaluated by selecting the cell containing it and pressing shift-enter. Also, when the code is evaluated, TVB's internal logging mechanisms produce output describing when/where/what of the operation, this is the text you'll see below the code cells. \n",
    "\n",
    "Setup\n",
    "-----\n",
    "\n",
    "Let's begin by importing the the modules we'll need, this is most easily achieved with:"
   ]
  },
  {
   "cell_type": "code",
   "execution_count": 4,
   "metadata": {
    "collapsed": false
   },
   "outputs": [],
   "source": [
    "from tvb.simulator.lab import *"
   ]
  },
  {
   "cell_type": "markdown",
   "metadata": {},
   "source": [
    "The tvb.simulator.lab script sets up our environment, importing all the components of TVB necessary for running our simulation. The modules we'll use for the simulation in this tutorial could alternatively be explicitly imported as follows: \n",
    "    \n",
    "    #NOTE: You don't need to run this now...\n",
    "    #Explicitly importing from tvb.simulator modules:\n",
    "    import tvb.simulator.simulator as simulator\n",
    "    import tvb.simulator.models as models\n",
    "    import tvb.simulator.coupling as coupling\n",
    "    import tvb.simulator.integrators as integrators\n",
    "    import tvb.simulator.monitors as monitors\n",
    "    \n",
    "    import tvb.datatypes.connectivity as connectivity\n",
    "\n",
    "It should be noted that the tvb.simulator.lab shortcut also performs a number of functions beyond simply importing the required modules of TVB, including: \n",
    "turning of TVB's storage mechanisms, the implementation of which, unfortunately, currently conflict with the scripted usage; \n",
    "importing numpy as np;\n",
    "importing everything (*) from matplotlib.pyplot; and\n",
    "importing everything from tvb.simulator.plotting_tools. "
   ]
  },
  {
   "cell_type": "markdown",
   "metadata": {},
   "source": [
    "*Model*\n",
    "--------\n",
    "\n",
    "Having imported the necessary components of TVB we now need to create specific instances that we'll use in our simulation. Most of the scientific Modules of TVB are setup with \"sensible\" defaults, and we'll be taking advantage of this here by not bothering to explicitly set very many of the configurable parameters -- and there are a lot of them, the flexibility of TVB is one of its strengths.\n",
    "\n",
    "Let's start with the Model for the local dynamics we wish to use, there are a number of predefined Models available in TVB, as an example here we'll use a generic 2 dimensional oscillator with its default parameters:"
   ]
  },
  {
   "cell_type": "code",
   "execution_count": 5,
   "metadata": {
    "collapsed": false
   },
   "outputs": [],
   "source": [
    "oscilator = models.Generic2dOscillator()"
   ]
  },
  {
   "cell_type": "markdown",
   "metadata": {},
   "source": [
    "*Connectivity*\n",
    "---------------\n",
    "\n",
    "We now need define some structure for our simple oscillator model to run on, again we'll rely on TVB's defaults, calling Connectivity without arguments leads to a default connectivity dataset being loaded. Having loaded the default dataset we can then alter the speed of signal propagation through the network to 4.0 ms$^{-1}$: "
   ]
  },
  {
   "cell_type": "code",
   "execution_count": 6,
   "metadata": {
    "collapsed": true
   },
   "outputs": [],
   "source": [
    "white_matter = connectivity.Connectivity(load_default=True)\n",
    "white_matter.speed = numpy.array([4.0])"
   ]
  },
  {
   "cell_type": "markdown",
   "metadata": {},
   "source": [
    "*Coupling*\n",
    "-----------\n",
    "\n",
    "The next step is to define a coupling function, proper setting of the parameters for this function requires some knowledge of the properties of both the Model being used and the structure through which it is connected. For our present purposes, we happen to know that for the default parameters of TVB's Generic2dOscillator connected through TVB's default connectivity matrix, a linear function with a slope of 0.0154 is a reasonable thing to use.\n",
    "\n",
    "NOTE: here we are setting a non-default parameter via an argument to the definition of our coupling. "
   ]
  },
  {
   "cell_type": "code",
   "execution_count": 7,
   "metadata": {
    "collapsed": true
   },
   "outputs": [],
   "source": [
    "white_matter_coupling = coupling.Linear(a=0.0154)"
   ]
  },
  {
   "cell_type": "markdown",
   "metadata": {},
   "source": [
    "*Integrator*\n",
    "-------------\n",
    "\n",
    "Now that we've defined our structure and dynamics we need to select an integration scheme. While TVB supports a number of schemes, for most purposes you should use either HeunDeterministic or HeunStochastic.\n",
    "\n",
    "To keep things simple, we'll use HeunDeterministic with an integration step size of 2$^{-6}$ -- because powers of 2 are nice. The most important thing here is to use a step size that is small enough for the integration to be numerically stable, ideally the number chosen should also be machine representable ()."
   ]
  },
  {
   "cell_type": "code",
   "execution_count": 8,
   "metadata": {
    "collapsed": false
   },
   "outputs": [],
   "source": [
    "heunint = integrators.HeunDeterministic(dt=2**-6)"
   ]
  },
  {
   "cell_type": "markdown",
   "metadata": {},
   "source": [
    "*Monitors*\n",
    "-----------\n",
    "\n",
    "The last component we need to define are some Monitors. The important thing to know here is that TVB doesn't support interpolation of the time-series it produces, which means that the period given to a monitor must be an integral multiple of the dt selected for the integration scheme. \n",
    "\n",
    "Although there are Monitors which apply a biophysical measurement process to the simulated neural activity, such as EEG, MEG, etc, here we'll select two simple monitors just to show the idea.\n",
    "\n",
    "The Raw Monitor takes no arguments and simply returns all the simulated data -- note: as a general rule this shouldn't be used for anything but very short simulations as the amount of data returned can become prohibitively large.\n",
    "\n",
    "The TemporalAverage Monitor averages over a time window of length *period* returning one time point every *period* ms. It also, by default, only returns those state-variables flagged in the Models definition as *variables_of_interest*.\n",
    "\n",
    "Having defined a couple of Monitors, we put them in a tuple in order to pass them to the Simulator."
   ]
  },
  {
   "cell_type": "code",
   "execution_count": 9,
   "metadata": {
    "collapsed": false
   },
   "outputs": [],
   "source": [
    "#Initialise some Monitors with period in physical time\n",
    "mon_raw = monitors.Raw()\n",
    "mon_tavg = monitors.TemporalAverage(period=2**-2)\n",
    "\n",
    "#Bundle them\n",
    "what_to_watch = (mon_raw, mon_tavg)"
   ]
  },
  {
   "cell_type": "markdown",
   "metadata": {},
   "source": [
    "*Simulator*\n",
    "------------\n",
    "\n",
    "The next step is to bring all these components together into a Simulator object. We then need to run the configure method, which basically just acts to calculate information necessary for the simulation that draws on specific combinations of the components.  "
   ]
  },
  {
   "cell_type": "code",
   "execution_count": 10,
   "metadata": {
    "collapsed": false
   },
   "outputs": [
    {
     "data": {
      "text/html": [
       "<table width=100%><tr><td>initial_conditions</td><td>None</td></tr><tr><td>coupling</td><td>Linear(a=0.0154, b=0)</td></tr><tr><td>stimulus</td><td>None</td></tr><tr><td>integrator</td><td>HeunDeterministic(dt=0.015625)</td></tr><tr><td>surface</td><td>None</td></tr><tr><td>connectivity</td><td>Connectivity(bound=False, value=None)</td></tr><tr><td>conduction_speed</td><td>3.0</td></tr><tr><td>simulation_length</td><td>1000.0</td></tr><tr><td>model</td><td>Generic2dOscillator(bound=False, value=None)</td></tr><tr><td>monitors</td><td>(Raw(bound=False, value=None), TemporalAverage(bound=False, value=None))</td></tr>"
      ],
      "text/plain": [
       "Simulator(bound=False, value=None)"
      ]
     },
     "execution_count": 10,
     "metadata": {},
     "output_type": "execute_result"
    }
   ],
   "source": [
    "#Initialise a Simulator -- Model, Connectivity, Integrator, and Monitors.\n",
    "sim = simulator.Simulator(model = oscilator, connectivity = white_matter,\n",
    "                          coupling = white_matter_coupling, \n",
    "                          integrator = heunint, monitors = what_to_watch)\n",
    "\n",
    "sim.configure()"
   ]
  },
  {
   "cell_type": "markdown",
   "metadata": {},
   "source": [
    "Running a simulation\n",
    "----------------------\n",
    "\n",
    "Now finally, we can run the simulation. The simulator that we've created is an iterable object, so all we need to do is iterate for some length, which we provide in ms, and collect the output: "
   ]
  },
  {
   "cell_type": "code",
   "execution_count": 11,
   "metadata": {
    "collapsed": false
   },
   "outputs": [],
   "source": [
    "#Perform the simulation\n",
    "raw_data = []\n",
    "raw_time = []\n",
    "tavg_data = []\n",
    "tavg_time = []\n",
    "\n",
    "for raw, tavg in sim(simulation_length=2**10):\n",
    "    if not raw is None:\n",
    "        raw_time.append(raw[0])\n",
    "        raw_data.append(raw[1])\n",
    "    \n",
    "    if not tavg is None:\n",
    "        tavg_time.append(tavg[0])\n",
    "        tavg_data.append(tavg[1])"
   ]
  },
  {
   "cell_type": "markdown",
   "metadata": {},
   "source": [
    "Taking a look at the results\n",
    "------------------------------\n",
    "\n",
    "The data returned by the simulator is in the form of a list of arrays. For most subsequent purposes it is much easier to deal with the data if it exists as a single contiguous array. And so we'll do that now:"
   ]
  },
  {
   "cell_type": "code",
   "execution_count": 12,
   "metadata": {
    "collapsed": true
   },
   "outputs": [],
   "source": [
    "#Make the lists numpy.arrays for easier use.\n",
    "RAW = numpy.array(raw_data)\n",
    "TAVG = numpy.array(tavg_data)"
   ]
  },
  {
   "cell_type": "markdown",
   "metadata": {},
   "source": [
    "Importing tvb.simulator.lab above also imported the plotting functionality of matplotlib.pyplot, which we'll now use to take a rough first look at our simulated data:"
   ]
  },
  {
   "cell_type": "code",
   "execution_count": 13,
   "metadata": {
    "collapsed": false
   },
   "outputs": [
    {
     "data": {
      "image/png": "[encoded data removed]",
      "text/plain": [
       "<matplotlib.figure.Figure at 0x10d5b7ed0>"
      ]
     },
     "metadata": {},
     "output_type": "display_data"
    },
    {
     "data": {
      "image/png": "[encoded data removed]",
      "text/plain": [
       "<matplotlib.figure.Figure at 0x10d548b50>"
      ]
     },
     "metadata": {},
     "output_type": "display_data"
    }
   ],
   "source": [
    "#Plot raw time series\n",
    "figure(1)\n",
    "plot(raw_time, RAW[:, 0, :, 0])\n",
    "title(\"Raw -- State variable 0\")\n",
    "\n",
    "#Plot temporally averaged time series\n",
    "figure(2)\n",
    "plot(tavg_time, TAVG[:, 0, :, 0])\n",
    "title(\"Temporal average\")\n",
    "\n",
    "#Show them\n",
    "show()"
   ]
  },
  {
   "cell_type": "markdown",
   "metadata": {},
   "source": [
    "The transient large amplitude oscillatory activity at the beginning of the simulation is a result of the imperfectly set initial conditions -- they are merely set by default to be random walks within the general range of state-variable values expected from the model. As the current simulation is configured with fixed point dynamics, if we were to set the initial conditions exactly to the values corresponding to that fixed point there would be no such initial transient.  "
   ]
  },
  {
   "cell_type": "markdown",
   "metadata": {},
   "source": [
    "That's all folks -- so, what now?\n",
    "---------------------------------\n",
    "\n",
    "And that's it for this tutorial, while it's not a particularly scientifically interesting simulation hopefully it gave you a sense of the anatomy of a simulation within TVB. If you're interested in more detail behind what we've done here, the best place to go next is probably TVB's hand-book.\n",
    "\n",
    "Alternatively, if you feel you have a good idea of the basics, you might want to move on to one of the more advanced tutorials describing surface simulations, stimuli, and biophysical Monitors (eg EEG)."
   ]
  }
 ],
 "metadata": {
  "kernelspec": {
   "display_name": "Python 2",
   "language": "python",
   "name": "python2"
  },
  "language_info": {
   "codemirror_mode": {
    "name": "ipython",
    "version": 2
   },
   "file_extension": ".py",
   "mimetype": "text/x-python",
   "name": "python",
   "nbconvert_exporter": "python",
   "pygments_lexer": "ipython2",
   "version": "2.7.11"
  }
 },
 "nbformat": 4,
 "nbformat_minor": 0
}
