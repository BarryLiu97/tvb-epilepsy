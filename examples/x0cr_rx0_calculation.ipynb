{
 "cells": [
  {
   "cell_type": "code",
   "execution_count": 18,
   "metadata": {
    "ExecuteTime": {
     "end_time": "2017-02-11T19:53:07.003146",
     "start_time": "2017-02-11T19:53:06.994321"
    },
    "collapsed": false
   },
   "outputs": [],
   "source": [
    "from sympy import *\n",
    "\n",
    "(y0,I1,x1,z,z_2d,z_6d,x0,r,x0cr,f1_2d,f1_6d,fz_lin,fz_sig) = symbols('y0 I1 x1 z z_2d z_6d x0 r x0cr f1_2d f1_6d fz_lin fz_sig')\n",
    "\n",
    "f1_2d = x1**3+2*x1**2\n",
    "f1_6d = x1**3-3*x1**2\n",
    "\n",
    "z_2d = y0-f1_2d+I1\n",
    "z_6d = y0-f1_6d+I1\n",
    "\n",
    "fz_lin = 4*(x1-r*x0+x0cr)-z\n",
    "fz_sig = 3/(1+exp(-10*(x1+0.5)))-r*x0+x0cr-z\n",
    "\n",
    "x10 = -5./3\n",
    "x11 = -4./3"
   ]
  },
  {
   "cell_type": "code",
   "execution_count": 19,
   "metadata": {
    "ExecuteTime": {
     "end_time": "2017-02-11T19:40:36.698434",
     "start_time": "2017-02-11T19:40:36.683599"
    },
    "collapsed": false
   },
   "outputs": [
    {
     "name": "stdout",
     "output_type": "stream",
     "text": [
      "(y0,I1) = (y0, I1)\n",
      "Resting equilibrium point:\n",
      "fi1_2d(x1=-5/3)=0.925925925925926\n",
      "fi1_2d(x1=-5/3)=-12.9629629629630\n",
      "z_2d(x1=-5/3)=3.17407407407407\n",
      "z_6d(x1=-5/3)=17.0629629629630\n",
      "Critical equilibrium point:\n",
      "fi1_2d(x1=-4/3)=0.925925925925926\n",
      "fi1_2d(x1=-4/3)=-12.9629629629630\n",
      "z_2d(x1=-4/3)=2.91481481481481\n",
      "z_6d(x1=-4/3)=11.8037037037037\n"
     ]
    }
   ],
   "source": [
    "z_2d.subs(y0,1.0)\n",
    "z_2d.subs(I1,3.1)\n",
    "z_6d.subs(y0,1.0)\n",
    "z_6d.subs(I1,3.1)\n",
    "print \"(y0,I1) = \" + str((y0,I1))\n",
    "\n",
    "print \"Resting equilibrium point:\"\n",
    "print \"fi1_2d(x1=-5/3)=\" + str(f1_2d.subs(x1,x10))\n",
    "print \"fi1_2d(x1=-5/3)=\" + str(f1_6d.subs(x1,x10))\n",
    "\n",
    "print \"z_2d(x1=-5/3)=\" + str(z_2d.subs([(x1,x10),(y0,1.0),(I1,3.1)]))\n",
    "print \"z_6d(x1=-5/3)=\" + str(z_6d.subs([(x1,x10),(y0,1.0),(I1,3.1)]))\n",
    "\n",
    "print \"Critical equilibrium point:\"\n",
    "print \"fi1_2d(x1=-4/3)=\" + str(f1_2d.subs(x1,x10))\n",
    "print \"fi1_2d(x1=-4/3)=\" + str(f1_6d.subs(x1,x10))\n",
    "\n",
    "print \"z_2d(x1=-4/3)=\" + str(z_2d.subs([(x1,x11),(y0,1.0),(I1,3.1)]))\n",
    "print \"z_6d(x1=-4/3)=\" + str(z_6d.subs([(x1,x11),(y0,1.0),(I1,3.1)]))\n"
   ]
  },
  {
   "cell_type": "markdown",
   "metadata": {
    "collapsed": true
   },
   "source": [
    "\n"
   ]
  },
  {
   "cell_type": "code",
   "execution_count": 20,
   "metadata": {
    "ExecuteTime": {
     "end_time": "2017-02-11T20:55:34.734149",
     "start_time": "2017-02-11T20:55:34.402600"
    },
    "collapsed": false
   },
   "outputs": [
    {
     "name": "stdout",
     "output_type": "stream",
     "text": [
      "{x0cr: 0.25*I1 + 0.25*y0 + 1.43518518518519, r: 0.398148148148148}\n",
      "{x0cr: I1 + y0 - 0.925951650522647, r: 0.259954469800993}\n",
      "{x0cr: 0.25*I1 + 0.25*y0 + 4.90740740740741, r: 1.64814814814815}\n",
      "{x0cr: I1 + y0 + 12.9629372383662, r: 5.25995446980095}\n"
     ]
    }
   ],
   "source": [
    "from sympy.solvers import solve\n",
    "\n",
    "fz_lin_2d=solve([fz_lin.subs([(x1,x10),(x0,0.0),(z,z_2d.subs(x1,x10))]),fz_lin.subs([(x1,x11),(x0,1.0),(z,z_2d.subs(x1,x11))])],x0cr,r)\n",
    "\n",
    "fz_sig_2d= solve([fz_sig.subs([(x1,x10),(x0,0.0),(z,z_2d.subs(x1,x10))]),fz_sig.subs([(x1,x11),(x0,1.0),(z,z_2d.subs(x1,x11))])],x0cr,r)\n",
    "\n",
    "fz_lin_6d= solve([fz_lin.subs([(x1,x10),(x0,0.0),(z,z_6d.subs(x1,x10))]),fz_lin.subs([(x1,x11),(x0,1.0),(z,z_6d.subs(x1,x11))])],x0cr,r)\n",
    "\n",
    "fz_sig_6d=  solve([fz_sig.subs([(x1,x10),(x0,0.0),(z,z_6d.subs(x1,x10))]),fz_sig.subs([(x1,x11),(x0,1.0),(z,z_6d.subs(x1,x11))])],x0cr,r)\n",
    "\n",
    "print fz_lin_2d\n",
    "print fz_sig_2d\n",
    "print fz_lin_6d\n",
    "print fz_sig_6d"
   ]
  },
  {
   "cell_type": "code",
   "execution_count": 21,
   "metadata": {
    "ExecuteTime": {
     "end_time": "2017-02-11T20:55:37.271311",
     "start_time": "2017-02-11T20:55:37.263865"
    },
    "collapsed": false
   },
   "outputs": [
    {
     "name": "stdout",
     "output_type": "stream",
     "text": [
      "2.46018518518519\n",
      "3.17404834947735\n",
      "5.93240740740741\n",
      "17.0629372383662\n"
     ]
    }
   ],
   "source": [
    "print fz_lin_2d[x0cr].subs([(y0,1.0),(I1,3.1)])\n",
    "print fz_sig_2d[x0cr].subs([(y0,1.0),(I1,3.1)])\n",
    "print fz_lin_6d[x0cr].subs([(y0,1.0),(I1,3.1)])\n",
    "print fz_sig_6d[x0cr].subs([(y0,1.0),(I1,3.1)])"
   ]
  },
  {
   "cell_type": "code",
   "execution_count": 22,
   "metadata": {
    "ExecuteTime": {
     "end_time": "2017-02-11T21:30:32.990276",
     "start_time": "2017-02-11T21:30:32.975407"
    },
    "collapsed": false
   },
   "outputs": [],
   "source": [
    "fx0cr_lin_2d = lambdify((y0,I1),fz_lin_2d[x0cr],'numpy')\n",
    "fx0cr_sig_2d = lambdify((y0,I1),fz_sig_2d[x0cr],'numpy')\n",
    "fx0cr_lin_6d = lambdify((y0,I1),fz_lin_6d[x0cr],'numpy')\n",
    "fx0cr_sig_6d = lambdify((y0,I1),fz_sig_6d[x0cr],'numpy')"
   ]
  },
  {
   "cell_type": "code",
   "execution_count": 23,
   "metadata": {
    "ExecuteTime": {
     "end_time": "2017-02-11T21:31:14.570509",
     "start_time": "2017-02-11T21:31:14.561505"
    },
    "collapsed": false
   },
   "outputs": [
    {
     "name": "stdout",
     "output_type": "stream",
     "text": [
      "[ 2.46018519  2.46018519]\n",
      "[ 3.17404835  3.17404835]\n",
      "[ 5.93240741  5.93240741]\n",
      "[ 17.06293724  17.06293724]\n"
     ]
    }
   ],
   "source": [
    "import numpy\n",
    "print fx0cr_lin_2d(numpy.array([1,1]),numpy.array([3.1,3.1]))\n",
    "print fx0cr_sig_2d(numpy.array([1,1]),numpy.array([3.1,3.1]))\n",
    "print fx0cr_lin_6d(numpy.array([1,1]),numpy.array([3.1,3.1]))\n",
    "print fx0cr_sig_6d(numpy.array([1,1]),numpy.array([3.1,3.1]))\n"
   ]
  },
  {
   "cell_type": "code",
   "execution_count": 24,
   "metadata": {
    "collapsed": false
   },
   "outputs": [],
   "source": [
    "x3_lin_taylor = expand(simplify((-4.0/3.0)**3+3.0*(-4.0/3.0)**2*(x1+4.0/3.0)+3.0*(-4.0/3.0)*(x1+4.0/3.0)**2))"
   ]
  },
  {
   "cell_type": "code",
   "execution_count": 25,
   "metadata": {
    "collapsed": false
   },
   "outputs": [
    {
     "name": "stdout",
     "output_type": "stream",
     "text": [
      "-4.0*x1**2 - 5.33333333333333*x1 - 2.37037037037037\n"
     ]
    }
   ],
   "source": [
    "print x3_lin_taylor"
   ]
  },
  {
   "cell_type": "code",
   "execution_count": 26,
   "metadata": {
    "collapsed": false
   },
   "outputs": [
    {
     "data": {
      "text/plain": [
       "2.3703703703703702"
      ]
     },
     "execution_count": 26,
     "metadata": {},
     "output_type": "execute_result"
    }
   ],
   "source": [
    "64.0/27"
   ]
  },
  {
   "cell_type": "code",
   "execution_count": 27,
   "metadata": {
    "collapsed": false
   },
   "outputs": [
    {
     "data": {
      "text/plain": [
       "5.333333333333333"
      ]
     },
     "execution_count": 27,
     "metadata": {},
     "output_type": "execute_result"
    }
   ],
   "source": [
    "16./3"
   ]
  },
  {
   "cell_type": "code",
   "execution_count": 28,
   "metadata": {
    "collapsed": false
   },
   "outputs": [],
   "source": [
    "fx_lin_taylor = expand(y0+I1-z-x3_lin_taylor-2*x1**2)"
   ]
  },
  {
   "cell_type": "code",
   "execution_count": 29,
   "metadata": {
    "collapsed": false
   },
   "outputs": [
    {
     "name": "stdout",
     "output_type": "stream",
     "text": [
      "I1 + 2.0*x1**2 + 5.33333333333333*x1 + y0 - z + 2.37037037037037\n"
     ]
    }
   ],
   "source": [
    "print fx_lin_taylor"
   ]
  },
  {
   "cell_type": "code",
   "execution_count": 30,
   "metadata": {
    "collapsed": false
   },
   "outputs": [
    {
     "name": "stdout",
     "output_type": "stream",
     "text": [
      "[-0.0555555555555556*sqrt(-162.0*I1 - 162.0*y0 + 162.0*z + 192.0) - 1.33333333333333, 0.0555555555555556*sqrt(-162.0*I1 - 162.0*y0 + 162.0*z + 192.0) - 1.33333333333333]\n"
     ]
    }
   ],
   "source": [
    "s = solve(fx_lin_taylor,x1)\n",
    "print s"
   ]
  },
  {
   "cell_type": "code",
   "execution_count": 31,
   "metadata": {
    "collapsed": false
   },
   "outputs": [
    {
     "name": "stdout",
     "output_type": "stream",
     "text": [
      "-2.76252631980947\n"
     ]
    }
   ],
   "source": [
    "s0= simplify(s[0].subs([(y0,1.0),(I1,3.1)]))\n",
    "print s0.subs(z,7.0)"
   ]
  },
  {
   "cell_type": "code",
   "execution_count": 32,
   "metadata": {
    "collapsed": false
   },
   "outputs": [
    {
     "name": "stdout",
     "output_type": "stream",
     "text": [
      "-2.76252631980948\n"
     ]
    }
   ],
   "source": [
    "s1= simplify(1.0/4*(-16.0/3-sqrt(8.0*z-629.6/27)))\n",
    "print s1.subs(z,7.0)"
   ]
  },
  {
   "cell_type": "code",
   "execution_count": 33,
   "metadata": {
    "collapsed": false
   },
   "outputs": [
    {
     "name": "stdout",
     "output_type": "stream",
     "text": [
      "-2.76252631980948\n"
     ]
    }
   ],
   "source": [
    "s2= simplify(-4.0/3-1.0/2*sqrt(2*(z-I1-y0)+64.0/27)).subs([(y0,1.0),(I1,3.1)])\n",
    "print s2.subs(z,7.0)"
   ]
  },
  {
   "cell_type": "code",
   "execution_count": null,
   "metadata": {
    "collapsed": false
   },
   "outputs": [],
   "source": []
  }
 ],
 "metadata": {
  "hide_input": false,
  "kernelspec": {
   "display_name": "Python 2",
   "language": "python",
   "name": "python2"
  },
  "language_info": {
   "codemirror_mode": {
    "name": "ipython",
    "version": 2
   },
   "file_extension": ".py",
   "mimetype": "text/x-python",
   "name": "python",
   "nbconvert_exporter": "python",
   "pygments_lexer": "ipython2",
   "version": "2.7.12"
  },
  "latex_envs": {
   "bibliofile": "biblio.bib",
   "cite_by": "apalike",
   "current_citInitial": 1,
   "eqLabelWithNumbers": true,
   "eqNumInitial": 0
  },
  "nav_menu": {},
  "toc": {
   "navigate_menu": true,
   "number_sections": true,
   "sideBar": true,
   "threshold": 6,
   "toc_cell": false,
   "toc_section_display": "block",
   "toc_window_display": false
  }
 },
 "nbformat": 4,
 "nbformat_minor": 1
}
