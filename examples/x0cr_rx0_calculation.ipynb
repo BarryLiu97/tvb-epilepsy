{
 "cells": [
  {
   "cell_type": "code",
   "execution_count": 49,
   "metadata": {
    "ExecuteTime": {
     "end_time": "2017-02-11T19:53:07.003146",
     "start_time": "2017-02-11T19:53:06.994321"
    },
    "collapsed": false
   },
   "outputs": [],
   "source": [
    "from sympy import *\n",
    "\n",
    "(y0,I1,x1,z,z_2d,z_6d,x0,r,x0cr,f1_2d,f1_6d,fz_lin,fz_sig) = symbols('y0 I1 x1 z z_2d z_6d x0 r x0cr f1_2d f1_6d fz_lin fz_sig')\n",
    "\n",
    "f1_2d = (x1-5.0/3)**3+2*(x1-5.0/3)**2\n",
    "f1_6d = (x1-5.0/3)**3-3*(x1-5.0/3)**2\n",
    "\n",
    "z_2d = y0-f1_2d+I1\n",
    "z_6d = y0-f1_6d+I1\n",
    "\n",
    "fz_lin = 4*(x1-r*x0+x0cr)-z\n",
    "fz_sig = 4*(3/(1+exp(-10*(x1-7.0/6)))-r*x0+x0cr)-z\n",
    "\n"
   ]
  },
  {
   "cell_type": "code",
   "execution_count": 44,
   "metadata": {
    "ExecuteTime": {
     "end_time": "2017-02-11T19:40:36.698434",
     "start_time": "2017-02-11T19:40:36.683599"
    },
    "collapsed": false
   },
   "outputs": [
    {
     "name": "stdout",
     "output_type": "stream",
     "text": [
      "(y0,I1) = (y0, I1)\n",
      "Resting equilibrium point:\n",
      "fi1_2d(x1=0)=0.925925925925926\n",
      "fi1_2d(x1=0)=-12.9629629629630\n",
      "z_2d(x1=0)=3.17407407407407\n",
      "z_6d(x1=0)=17.0629629629630\n",
      "Critical equilibrium point:\n",
      "fi1_2d(x1=0)=1.18518518518519\n",
      "fi1_2d(x1=0)=-7.70370370370371\n",
      "z_2d(x1=1/3)=2.91481481481481\n",
      "z_6d(x1=1/3)=11.8037037037037\n"
     ]
    }
   ],
   "source": [
    "z_2d.subs(y0,1.0)\n",
    "z_2d.subs(I1,3.1)\n",
    "z_6d.subs(y0,1.0)\n",
    "z_6d.subs(I1,3.1)\n",
    "c53 = 5.0/3.0\n",
    "print \"(y0,I1) = \" + str((y0,I1))\n",
    "\n",
    "print \"Resting equilibrium point:\"\n",
    "print \"fi1_2d(x1=0)=\" + str(f1_2d.subs(x1,0.0))\n",
    "print \"fi1_2d(x1=0)=\" + str(f1_6d.subs(x1,0.0))\n",
    "\n",
    "print \"z_2d(x1=0)=\" + str(z_2d.subs([(x1,0.0),(y0,1.0),(I1,3.1)]))\n",
    "print \"z_6d(x1=0)=\" + str(z_6d.subs([(x1,0.0),(y0,1.0),(I1,3.1)]))\n",
    "\n",
    "print \"Critical equilibrium point:\"\n",
    "print \"fi1_2d(x1=0)=\" + str(f1_2d.subs(x1,1.0/3))\n",
    "print \"fi1_2d(x1=0)=\" + str(f1_6d.subs(x1,1.0/3))\n",
    "\n",
    "print \"z_2d(x1=1/3)=\" + str(z_2d.subs([(x1,1.0/3),(y0,1.0),(I1,3.1)]))\n",
    "print \"z_6d(x1=1/3)=\" + str(z_6d.subs([(x1,1.0/3.0),(y0,1.0),(I1,3.1)]))\n"
   ]
  },
  {
   "cell_type": "markdown",
   "metadata": {
    "collapsed": true
   },
   "source": [
    "\n"
   ]
  },
  {
   "cell_type": "code",
   "execution_count": 63,
   "metadata": {
    "ExecuteTime": {
     "end_time": "2017-02-11T20:55:34.734149",
     "start_time": "2017-02-11T20:55:34.402600"
    },
    "collapsed": false
   },
   "outputs": [
    {
     "name": "stdout",
     "output_type": "stream",
     "text": [
      "{x0cr: 0.25*I1 + 0.25*y0 - 0.231481481481481, r: 0.398148148148148}\n",
      "{x0cr: 0.25*I1 + 0.25*y0 - 0.231507206078202, r: 0.0655100253565500}\n",
      "{x0cr: 0.25*I1 + 0.25*y0 + 3.24074074074074, r: 1.64814814814815}\n",
      "{x0cr: 0.25*I1 + 0.25*y0 + 3.24071501614403, r: 1.31551002535656}\n"
     ]
    }
   ],
   "source": [
    "from sympy.solvers import solve\n",
    "\n",
    "fz_lin_2d=solve([fz_lin.subs([(x1,0.0),(x0,0.0),(z,z_2d.subs(x1,0.0))]),fz_lin.subs([(x1,1.0/3),(x0,1.0),(z,z_2d.subs(x1,1.0/3))])],r,x0cr)\n",
    "\n",
    "fz_sig_2d= solve([fz_sig.subs([(x1,0.0),(x0,0.0),(z,z_2d.subs(x1,0.0))]),fz_sig.subs([(x1,1.0/3),(x0,1.0),(z,z_2d.subs(x1,1.0/3))])],r,x0cr)\n",
    "\n",
    "fz_lin_6d= solve([fz_lin.subs([(x1,0.0),(x0,0.0),(z,z_6d.subs(x1,0.0))]),fz_lin.subs([(x1,1.0/3),(x0,1.0),(z,z_6d.subs(x1,1.0/3))])],r,x0cr)\n",
    "\n",
    "fz_sig_6d=  solve([fz_sig.subs([(x1,0.0),(x0,0.0),(z,z_6d.subs(x1,0.0))]),fz_sig.subs([(x1,1.0/3),(x0,1.0),(z,z_6d.subs(x1,1.0/3))])],r,x0cr)\n",
    "\n",
    "print fz_lin_2d\n",
    "print fz_sig_2d\n",
    "print fz_lin_6d\n",
    "print fz_sig_6d"
   ]
  },
  {
   "cell_type": "code",
   "execution_count": 64,
   "metadata": {
    "ExecuteTime": {
     "end_time": "2017-02-11T20:55:37.271311",
     "start_time": "2017-02-11T20:55:37.263865"
    },
    "collapsed": false
   },
   "outputs": [
    {
     "name": "stdout",
     "output_type": "stream",
     "text": [
      "0.793518518518519\n",
      "0.793492793921798\n",
      "4.26574074074074\n",
      "4.26571501614402\n"
     ]
    }
   ],
   "source": [
    "print fz_lin_2d[x0cr].subs([(y0,1.0),(I1,3.1)])\n",
    "print fz_sig_2d[x0cr].subs([(y0,1.0),(I1,3.1)])\n",
    "print fz_lin_6d[x0cr].subs([(y0,1.0),(I1,3.1)])\n",
    "print fz_sig_6d[x0cr].subs([(y0,1.0),(I1,3.1)])"
   ]
  },
  {
   "cell_type": "code",
   "execution_count": 75,
   "metadata": {
    "ExecuteTime": {
     "end_time": "2017-02-11T21:30:32.990276",
     "start_time": "2017-02-11T21:30:32.975407"
    },
    "collapsed": false
   },
   "outputs": [],
   "source": [
    "fx0cr_lin_2d = lambdify((y0,I1),fz_lin_2d[x0cr],'numpy')\n",
    "fx0cr_sig_2d = lambdify((y0,I1),fz_sig_2d[x0cr],'numpy')\n",
    "fx0cr_lin_6d = lambdify((y0,I1),fz_lin_6d[x0cr],'numpy')\n",
    "fx0cr_sig_6d = lambdify((y0,I1),fz_sig_6d[x0cr],'numpy')"
   ]
  },
  {
   "cell_type": "code",
   "execution_count": 77,
   "metadata": {
    "ExecuteTime": {
     "end_time": "2017-02-11T21:31:14.570509",
     "start_time": "2017-02-11T21:31:14.561505"
    },
    "collapsed": false
   },
   "outputs": [
    {
     "name": "stdout",
     "output_type": "stream",
     "text": [
      "[ 0.79351852  0.79351852]\n",
      "[ 0.79349279  0.79349279]\n",
      "[ 4.26574074  4.26574074]\n",
      "[ 4.26571502  4.26571502]\n"
     ]
    }
   ],
   "source": [
    "import numpy\n",
    "print fx0cr_lin_2d(numpy.array([1,1]),numpy.array([3.1,3.1]))\n",
    "print fx0cr_sig_2d(numpy.array([1,1]),numpy.array([3.1,3.1]))\n",
    "print fx0cr_lin_6d(numpy.array([1,1]),numpy.array([3.1,3.1]))\n",
    "print fx0cr_sig_6d(numpy.array([1,1]),numpy.array([3.1,3.1]))\n"
   ]
  },
  {
   "cell_type": "code",
   "execution_count": null,
   "metadata": {
    "collapsed": true
   },
   "outputs": [],
   "source": []
  }
 ],
 "metadata": {
  "hide_input": false,
  "kernelspec": {
   "display_name": "Python 2",
   "language": "python",
   "name": "python2"
  },
  "language_info": {
   "codemirror_mode": {
    "name": "ipython",
    "version": 2
   },
   "file_extension": ".py",
   "mimetype": "text/x-python",
   "name": "python",
   "nbconvert_exporter": "python",
   "pygments_lexer": "ipython2",
   "version": "2.7.12"
  },
  "latex_envs": {
   "bibliofile": "biblio.bib",
   "cite_by": "apalike",
   "current_citInitial": 1,
   "eqLabelWithNumbers": true,
   "eqNumInitial": 0
  },
  "nav_menu": {},
  "toc": {
   "navigate_menu": true,
   "number_sections": true,
   "sideBar": true,
   "threshold": 6,
   "toc_cell": false,
   "toc_section_display": "block",
   "toc_window_display": false
  }
 },
 "nbformat": 4,
 "nbformat_minor": 1
}
