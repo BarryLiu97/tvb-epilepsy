{
 "cells": [
  {
   "cell_type": "code",
   "execution_count": null,
   "metadata": {
    "ExecuteTime": {
     "end_time": "2017-09-05T10:45:45.126017",
     "start_time": "2017-09-05T10:45:45.115729"
    },
    "cell_style": "center",
    "collapsed": false,
    "hide_input": false
   },
   "outputs": [],
   "source": [
    "%matplotlib inline\n",
    "\n",
    "import os\n",
    "import warnings\n",
    "from copy import deepcopy\n",
    "\n",
    "import numpy as np\n",
    "\n",
    "from tvb_epilepsy.base.h5_model import convert_to_h5_model, read_h5_model\n"
   ]
  },
  {
   "cell_type": "code",
   "execution_count": null,
   "metadata": {
    "ExecuteTime": {
     "end_time": "2017-09-05T10:45:46.782736",
     "start_time": "2017-09-05T10:45:46.769511"
    },
    "collapsed": false
   },
   "outputs": [],
   "source": [
    "# Configurations\n",
    "HOME_FOLDER=\"/Users/dionperd/VEP\"\n",
    "FOLDER_VEP = os.path.join(HOME_FOLDER, \"CC/TVB2/tvbHead\")\n",
    "HYPOTHESIS_FOLDER = os.path.join(FOLDER_VEP, \"clinical_hypothesis\")\n",
    "RESULTS_FOLDER = os.path.join(HYPOTHESIS_FOLDER, \"results\")\n",
    "FOLDER_RES = os.path.join(RESULTS_FOLDER, \"data\")\n",
    "FOLDER_FIGURES = os.path.join(RESULTS_FOLDER, \"figs\")\n",
    "FOLDER_LOGS = os.path.join(RESULTS_FOLDER, \"logs\")\n",
    "SHOW_FLAG = True\n",
    "SAVE_FLAG = True\n",
    "FIG_FORMAT = \"png\"\n",
    "HYPOTHESIS_NAME = \"clinical_hypothesis_new\""
   ]
  },
  {
   "cell_type": "code",
   "execution_count": null,
   "metadata": {
    "collapsed": false
   },
   "outputs": [],
   "source": [
    "# Initialize logger\n",
    "from tvb_epilepsy.base.utils import initialize_logger\n",
    "logger = initialize_logger(__name__, target_folder=FOLDER_LOGS)"
   ]
  },
  {
   "cell_type": "code",
   "execution_count": null,
   "metadata": {
    "collapsed": false
   },
   "outputs": [],
   "source": [
    "# Reading data\n",
    "\n",
    "from tvb_epilepsy.tvb_api.readers_tvb import TVBReader as Reader\n",
    "reader = Reader()\n",
    "logger.info(\"Reading from: \" + FOLDER_VEP)\n",
    "head = reader.read_head(FOLDER_VEP, connectivity_file=\"tvb_connectivity.zip\")\n",
    "\n",
    "# Plot\n",
    "# print str(head)\n",
    "head.plot(show_flag=SHOW_FLAG, save_flag=SAVE_FLAG, figure_dir=FOLDER_FIGURES, figure_format=FIG_FORMAT)"
   ]
  },
  {
   "cell_type": "code",
   "execution_count": null,
   "metadata": {
    "collapsed": false
   },
   "outputs": [],
   "source": [
    "#...and define a VEP hypothesis\n",
    "from tvb_epilepsy.base.model.disease_hypothesis import DiseaseHypothesis\n",
    "\n",
    "# Regions of Pathological Excitability hypothesis \n",
    "# (value range: x0_values = [0.0, 1.0] corresponding to x0 = [2.460, -2.062]\n",
    "# by calculating: x0 = 0.398 * x0_values - 2.460\n",
    "# In the absence of any connectivity, x0cr = -2.062 is the critical value (and therefore x0_values_cr = 1.0)\n",
    "# When some connectivity is present, x0cr > -2.062 (and therefore x0_values_cr < 1.0)\n",
    "# This relationship between x0 and the scaled x0_values changes if any of the parameters yc, Iext1, a, b, d of the\n",
    "# epileptor change, to conserve x0values_cr <= 1.0\n",
    "x0_indices = []\n",
    "x0_values = []\n",
    "\n",
    "# Regions of Model Epileptogenicity hypothesis:\n",
    "# (value range: E = [0.0, 1.0] corresponding to x1 equilibrium point \n",
    "# x1eq = [-5/3, -4/3], where x1eq* = -4/3 is the bifurcation point):\n",
    "e_indices = [2, 32]\n",
    "e_values = [0.8, 0.9]\n",
    "\n",
    "# Global/afferent coupling hypothesis:\n",
    "# (value range: K = [0.0, ??); it will be scaled in the background by the number of regions)\n",
    "K_indices = [] # Set region indices for afferent coupling, else it propagates to all regions (i.e., global coupling)\n",
    "K_values = [10]\n",
    "\n",
    "# Regions of Connectivity hypothesis:\n",
    "# connectivity will be scaled multiplicatively \n",
    "# (i.e, w_disease[w_indices]  = w_original[w_indices] * w_values)\n",
    "w_indices = [] # linear indice\n",
    "w_values = [] \n",
    "\n",
    "disease_indices = np.unique(x0_indices + e_indices)\n",
    "\n",
    "hyp = DiseaseHypothesis(head.connectivity.number_of_regions, \n",
    "                        excitability_hypothesis={}, \n",
    "                        epileptogenicity_hypothesis={tuple(e_indices): e_values},\n",
    "                        connectivity_hypothesis={})\n",
    "\n",
    "logger.info(\"\\n\\nRunning hypothesis: \" + hyp.name)"
   ]
  },
  {
   "cell_type": "code",
   "execution_count": null,
   "metadata": {
    "collapsed": false
   },
   "outputs": [],
   "source": [
    "# Model configuration\n",
    "from tvb_epilepsy.service.model_configuration_service import ModelConfigurationService\n",
    "\n",
    "logger.info(\"\\n\\nCreating model configuration...\")\n",
    "if len(K_values) == 0:\n",
    "    model_configuration_service = ModelConfigurationService(hyp.number_of_regions)\n",
    "else:\n",
    "    from tvb_epilepsy.base.constants import K_DEF\n",
    "    if len(K_indices) == 0:\n",
    "        model_configuration_service = ModelConfigurationService(hyp.number_of_regions, K=K_values[0])\n",
    "    else:\n",
    "        K = K_DEF * numpy.ones((hyp.number_of_regions,), dtype=numpy.float32)\n",
    "        K[K_indices] = K_values\n",
    "        model_configuration_service = ModelConfigurationService(hyp.number_of_regions, K=K)\n",
    "        \n",
    "model_configuration_service.write_to_h5(FOLDER_RES, hyp.name + \"_model_config_service.h5\")\n",
    "\n",
    "model_configuration = model_configuration_service.configure_model_from_hypothesis(hyp, head.connectivity.normalized_weights)\n",
    "model_configuration.write_to_h5(FOLDER_RES, hyp.name + \"_ModelConfig.h5\")\n",
    "\n",
    "# Plot nullclines and equilibria of model configuration\n",
    "model_configuration_service.plot_nullclines_eq(model_configuration, head.connectivity.region_labels,\n",
    "                                               special_idx=disease_indices, model=\"6d\", zmode=\"lin\",\n",
    "                                               figure_name=hyp.name + \"_Nullclines and equilibria\")"
   ]
  },
  {
   "cell_type": "code",
   "execution_count": null,
   "metadata": {
    "collapsed": false
   },
   "outputs": [],
   "source": [
    "# Simulation: the quick way using my own simulation scripts, \n",
    "# with my own -TVB configuration- choices for noise, monitors, parameter values etc\n",
    "# You can write you own scripts and add them to the repo\n",
    "from tvb_epilepsy.base.constants import VOIS\n",
    "from tvb_epilepsy.scripts.simulation_scripts import set_time_scales, setup_TVB_simulation_from_model_configuration\n",
    "from tvb_epilepsy.scripts.simulation_scripts import prepare_vois_ts_dict, compute_seeg_and_write_ts_h5_file\n",
    "from tvb_epilepsy.base.plot_utils import plot_sim_results\n",
    "\n",
    "# Choose model\n",
    "# Available models beyond the TVB Epileptor (they all encompass optional variations from the different papers):\n",
    "# EpileptorDP: similar to the TVB Epileptor + optional variations,\n",
    "# EpileptorDP2D: reduced 2D model, following Proix et all 2014 +optional variations, \n",
    "# EpleptorDPrealistic: starting from the TVB Epileptor + optional variations, but:\n",
    "#      -x0, Iext1, Iext2, slope and K become noisy state variables, \n",
    "#      -Iext2 and slope are coupled to z, g, or z*g in order for spikes to appear before seizure,\n",
    "#      -multiplicative correlated noise is also used\n",
    "# Optional variations:\n",
    "zmode=\"lin\" # by default, or \"sig\" for the sigmoidal expression for the slow z variable in Proix et al. 2014\n",
    "pmode = \"z\" # by default, \"g\" or \"z*g\" for the feedback coupling to Iext2 and slope for EpileptorDPrealistic\n",
    "\n",
    "model_name = \"Epileptor\" \n",
    "\n",
    "if model_name is \"EpileptorDP2D\":\n",
    "    spectral_raster_plot = False # time-frequency plot\n",
    "    trajectories_plot = True # x1-z trajectories' plot\n",
    "else:\n",
    "    spectral_raster_plot = \"lfp\"\n",
    "    trajectories_plot = False\n",
    "\n",
    "# We don't want any time delays for the moment\n",
    "head.connectivity.tract_lengths *= 0.0\n",
    "\n",
    "logger.info(\"\\n\\nConfiguring simulation...\")\n",
    "\n",
    "# Configuring time scales of the simulation\n",
    "fs = 2048.0 # this is the simulation sampling rate that is necessary for the simulation to be stable\n",
    "time_length = 10000.0  # in msecs, the final output nominal time length of the simulation\n",
    "report_every_n_monitor_steps = 100.0\n",
    "# The TVB average monitor will return a sampling frequency of fsAVG=512 Hz by default\n",
    "(dt, fsAVG, sim_length, monitor_period, n_report_blocks) = set_time_scales(fs=fs, time_length=time_length, \n",
    "                                                                           scale_fsavg=None,\n",
    "                                                                           report_every_n_monitor_steps=\n",
    "                                                                           report_every_n_monitor_steps)\n",
    "\n",
    "# This has to run for every different simulation on a different hypothesis/model configuration:\n",
    "sim = setup_TVB_simulation_from_model_configuration(model_configuration, head.connectivity, dt, \n",
    "                                                    sim_length, monitor_period, model_name, zmode=np.array(zmode),\n",
    "                                                    pmode=np.array(pmode),\n",
    "                                                    noise_instance=None, noise_intensity=None,\n",
    "                                                    monitor_expressions=None)\n",
    "\n",
    "# Integrator and initial conditions initialization. \n",
    "# By default initial condition is set right on the equilibrium point.\n",
    "sim.config_simulation(initial_conditions=None)\n",
    "\n",
    "logger.info(\"\\n\\nSimulating...\")\n",
    "ttavg, tavg_data, status = sim.launch_simulation(n_report_blocks)\n",
    "\n",
    "# Write settings to a file for future use\n",
    "convert_to_h5_model(sim.simulation_settings).write_to_h5(FOLDER_RES, hyp.name + \"_sim_settings.h5\")\n",
    "            \n",
    "if not status:\n",
    "    warnings.warn(\"\\nSimulation failed!\")\n",
    "\n",
    "else:\n",
    "\n",
    "    time = np.array(ttavg, dtype='float32')\n",
    "    \n",
    "    output_sampling_time = np.mean(np.diff(time))\n",
    "    tavg_data = tavg_data[:, :, :, 0]\n",
    "\n",
    "    logger.info(\"\\n\\nSimulated signal return shape: %s\", tavg_data.shape)\n",
    "    logger.info(\"Time: %s - %s\", time[0], time[-1])\n",
    "    logger.info(\"Values: %s - %s\", tavg_data.min(), tavg_data.max())\n",
    "\n",
    "    # Variables of interest in a dictionary:\n",
    "    vois_ts_dict = prepare_vois_ts_dict(VOIS[model_name], tavg_data)\n",
    "    vois_ts_dict['time'] = time\n",
    "    vois_ts_dict['time_units'] = 'msec'\n",
    "\n",
    "    compute_seeg_and_write_ts_h5_file(FOLDER_RES, hyp.name + \"_ts.h5\", sim.model, vois_ts_dict,\n",
    "                                output_sampling_time, time_length, \n",
    "                                hpf_flag=True, hpf_low=10.0, hpf_high=250.0, sensor_dicts_list=[head.sensorsSEEG])\n",
    "\n",
    "    # Plot results\n",
    "    plot_sim_results(sim.model, disease_indices, hyp.name, head, vois_ts_dict, head.sensorsSEEG.keys(), hpf_flag=True, \n",
    "                     trajectories_plot=trajectories_plot, spectral_raster_plot=spectral_raster_plot, log_norm=True,\n",
    "                     show_flag=SHOW_FLAG, save_flag=SAVE_FLAG)\n",
    "\n",
    "    # Optionally save results in mat files\n",
    "    # from scipy.io import savemat\n",
    "    # savemat(os.path.join(FOLDER_RES, hyp.name + \"_ts.mat\"), vois_ts_dict)"
   ]
  },
  {
   "cell_type": "code",
   "execution_count": null,
   "metadata": {
    "collapsed": true
   },
   "outputs": [],
   "source": []
  }
 ],
 "metadata": {
  "hide_input": false,
  "kernelspec": {
   "display_name": "Python 2",
   "language": "python",
   "name": "python2"
  },
  "language_info": {
   "codemirror_mode": {
    "name": "ipython",
    "version": 2
   },
   "file_extension": ".py",
   "mimetype": "text/x-python",
   "name": "python",
   "nbconvert_exporter": "python",
   "pygments_lexer": "ipython2",
   "version": "2.7.12"
  },
  "latex_envs": {
   "bibliofile": "biblio.bib",
   "cite_by": "apalike",
   "current_citInitial": 1,
   "eqLabelWithNumbers": true,
   "eqNumInitial": 0
  },
  "nav_menu": {},
  "toc": {
   "navigate_menu": true,
   "number_sections": true,
   "sideBar": true,
   "threshold": 6,
   "toc_cell": false,
   "toc_section_display": "block",
   "toc_window_display": false
  }
 },
 "nbformat": 4,
 "nbformat_minor": 1
}
